{
  "cells": [
    {
      "cell_type": "markdown",
      "metadata": {
        "colab_type": "text",
        "id": "2CV34UsON7Ic"
      },
      "source": [
        "# Programming Assignment: Implementing the K-means Clustering Algorithm\n",
        "\n",
        "## Cluster Analysis in Data Mining Course - Coursera\n",
        "\n",
        "* Author: Ovi\n",
        "* Date: October 14, 2024"
      ]
    },
    {
      "cell_type": "markdown",
      "metadata": {
        "colab_type": "text",
        "id": "ioZUy0CcJxUk"
      },
      "source": [
        "## Description\n",
        "In this programming assignment, you are required to implement the k-means algorithm and apply it to a real-life data set.\n",
        "\n",
        "### Input\n",
        "The provided input file (\"places.txt\") consists of the locations of 300 places in the US. Each location is a two-dimensional point that represents the longitude and latitude of the place. For example, \"-112.1,33.5\" means the longitude of the place is -112.1, and the latitude is 33.5.\n",
        "\n",
        "### Output\n",
        "You are required to implement the k-means algorithm and use it to cluster the 300 locations into three clusters, such that the locations in the same cluster are geographically close to each other.\n",
        "\n",
        "After reading in the 300 locations in \"places.txt\" and applying the k-means algorithm (with k = 3), you are required to generate an output file named \"clusters.txt\". The output file should contain exactly 300 lines, where each line represents the cluster label of each location. Every line should be in the format: location_id cluster_label.\n",
        "\n",
        "An example snippet of the output \"clusters.txt\" file is provided below:\n",
        "\n",
        "0 1\n",
        "\n",
        "1 0\n",
        "\n",
        "2 1\n",
        "\n",
        "3 2\n",
        "\n",
        "4 0\n",
        "\n",
        "In the above, the five lines denote the cluster ids of the first five locations in the input file, which means:\n",
        "\n",
        "The first location belongs to cluster \"1\"\n",
        "\n",
        "The second location belongs to cluster \"0\"\n",
        "\n",
        "The third location belongs to cluster \"1\"\n",
        "\n",
        "The fourth location belongs to cluster \"2\"\n",
        "\n",
        "The fifth location belongs to cluster \"0\""
      ]
    },
    {
      "cell_type": "code",
      "execution_count": 1,
      "metadata": {
        "colab": {},
        "colab_type": "code",
        "id": "00L3IhONPp0I"
      },
      "outputs": [],
      "source": [
        "import numpy as np\n",
        "\n",
        "records = []\n",
        "with open('places.txt') as in_file:\n",
        "  for line in in_file:\n",
        "    records.append([float(x) for x in line.strip().split(\",\")])\n",
        "records = np.array(records)"
      ]
    },
    {
      "cell_type": "code",
      "execution_count": 2,
      "metadata": {
        "colab": {
          "base_uri": "https://localhost:8080/",
          "height": 119
        },
        "colab_type": "code",
        "id": "WeqkyQV-dd6H",
        "outputId": "38841a1a-aafe-42bc-fb21-727ae97693e2"
      },
      "outputs": [
        {
          "name": "stdout",
          "output_type": "stream",
          "text": [
            "[[-112.0707922   33.4516246]\n",
            " [-112.0655423   33.4492979]\n",
            " [-112.0739312   33.4564905]\n",
            " [-112.0748658   33.4701155]\n",
            " [ -80.5256905   43.4770992]]\n",
            "300\n"
          ]
        }
      ],
      "source": [
        "print(records[:5])\n",
        "print(len(records))"
      ]
    },
    {
      "cell_type": "code",
      "execution_count": 3,
      "metadata": {
        "colab": {},
        "colab_type": "code",
        "id": "NDwbjGEtfTct"
      },
      "outputs": [],
      "source": [
        "\n",
        "import matplotlib.pyplot as plt\n",
        "import seaborn as sns; sns.set()  # for plot styling\n",
        "import numpy as np\n",
        "# %matplotlib inline\n",
        "def plot(X, Y = None, centroids = None):\n",
        "  plt.scatter(X[:, 0], X[:, 1], s=50, c=Y, cmap='viridis');\n",
        "\n",
        "  if centroids is not None:\n",
        "    plt.scatter(centroids[:, 0], centroids[:, 1], c='black', s=200, alpha=0.1);"
      ]
    },
    {
      "cell_type": "code",
      "execution_count": 4,
      "metadata": {
        "colab": {
          "base_uri": "https://localhost:8080/",
          "height": 271
        },
        "colab_type": "code",
        "id": "e5J-TlMAhZ2x",
        "outputId": "c97c1c49-8089-4173-a5ba-9343e8eff245"
      },
      "outputs": [
        {
          "name": "stderr",
          "output_type": "stream",
          "text": [
            "/var/folders/d7/69b_q14n7f91jv0xw10s2_c00000gn/T/ipykernel_27816/3154544046.py:6: UserWarning: No data for colormapping provided via 'c'. Parameters 'cmap' will be ignored\n",
            "  plt.scatter(X[:, 0], X[:, 1], s=50, c=Y, cmap='viridis');\n"
          ]
        },
        {
          "data": {
            "image/png": "[encoded data removed]",
            "text/plain": [
              "<Figure size 640x480 with 1 Axes>"
            ]
          },
          "metadata": {},
          "output_type": "display_data"
        }
      ],
      "source": [
        "plot(records)"
      ]
    },
    {
      "cell_type": "code",
      "execution_count": 5,
      "metadata": {
        "colab": {},
        "colab_type": "code",
        "id": "Bf8iP3xypPh8"
      },
      "outputs": [],
      "source": [
        "from random import sample \n",
        "\n",
        "N = len(records)\n",
        "K = 3"
      ]
    },
    {
      "cell_type": "code",
      "execution_count": 6,
      "metadata": {
        "colab": {
          "base_uri": "https://localhost:8080/",
          "height": 122
        },
        "colab_type": "code",
        "id": "bnGTnmcEht09",
        "outputId": "86003fa6-bbf1-49d7-e8cb-13424b634123"
      },
      "outputs": [
        {
          "name": "stdout",
          "output_type": "stream",
          "text": [
            "new global min  5.1165520624676075\n"
          ]
        },
        {
          "name": "stderr",
          "output_type": "stream",
          "text": [
            "/var/folders/d7/69b_q14n7f91jv0xw10s2_c00000gn/T/ipykernel_27816/3511018583.py:21: RuntimeWarning: Mean of empty slice.\n",
            "  centroids = np.array([records[ans == i].mean(axis=0) for i in range(K)])\n",
            "/opt/homebrew/lib/python3.11/site-packages/numpy/core/_methods.py:121: RuntimeWarning: invalid value encountered in divide\n",
            "  ret = um.true_divide(\n"
          ]
        }
      ],
      "source": [
        "best_ans = None\n",
        "global_min = float(\"inf\")\n",
        "eps = 0.0001\n",
        "# repeat the procedure some times to get some distinct initializations\n",
        "for _ in range(1000):\n",
        "  prev_sum = float(\"inf\")\n",
        "  centroids = records[sample(range(N), K)]\n",
        "  ans = None\n",
        "  for _ in range(1000):\n",
        "    # assign each point to the closest centroid\n",
        "    dist = np.array([np.linalg.norm(records - centroids[i], axis = 1) for i in range(K)])\n",
        "    ans = np.argmin(dist, axis=0)\n",
        "\n",
        "    new_sum = sum([np.linalg.norm(records[ans == i] - centroids[i], axis = 1).sum() for i in range(K)])\n",
        "    \n",
        "    if (prev_sum - new_sum) < eps:\n",
        "      break\n",
        "    prev_sum = new_sum\n",
        "\n",
        "    # calculate new centroids\n",
        "    centroids = np.array([records[ans == i].mean(axis=0) for i in range(K)])\n",
        "\n",
        "  if new_sum < global_min:\n",
        "    print('new global min ', new_sum)\n",
        "    global_min = new_sum\n",
        "    best_ans = ans"
      ]
    },
    {
      "cell_type": "code",
      "execution_count": 7,
      "metadata": {
        "colab": {
          "base_uri": "https://localhost:8080/",
          "height": 268
        },
        "colab_type": "code",
        "id": "K5SFcB-WMTZ3",
        "outputId": "e454b140-3761-423d-bbe0-0528e9e9938d"
      },
      "outputs": [
        {
          "data": {
            "image/png": "[encoded data removed]",
            "text/plain": [
              "<Figure size 640x480 with 1 Axes>"
            ]
          },
          "metadata": {},
          "output_type": "display_data"
        }
      ],
      "source": [
        "plot(records, best_ans, centroids)"
      ]
    },
    {
      "cell_type": "code",
      "execution_count": 8,
      "metadata": {
        "colab": {},
        "colab_type": "code",
        "id": "q86DNJDepICJ"
      },
      "outputs": [],
      "source": [
        "with open('clusters.txt', 'w') as out_file:\n",
        "  for i in range(N):\n",
        "    out_file.write(f\"{i} {best_ans[i]}\\n\")"
      ]
    },
    {
      "cell_type": "code",
      "execution_count": 0,
      "metadata": {
        "colab": {},
        "colab_type": "code",
        "id": "VcdLgRjbntFG"
      },
      "outputs": [],
      "source": []
    }
  ],
  "metadata": {
    "colab": {
      "collapsed_sections": [],
      "name": "Cluster Analysis in Data Mining - Implementing the K-means Clustering Algorithm.ipynb",
      "provenance": [],
      "toc_visible": true
    },
    "kernelspec": {
      "display_name": "Python 3",
      "name": "python3"
    },
    "language_info": {
      "codemirror_mode": {
        "name": "ipython",
        "version": 3
      },
      "file_extension": ".py",
      "mimetype": "text/x-python",
      "name": "python",
      "nbconvert_exporter": "python",
      "pygments_lexer": "ipython3",
      "version": "3.11.8"
    }
  },
  "nbformat": 4,
  "nbformat_minor": 0
}
