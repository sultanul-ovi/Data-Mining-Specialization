{
  "nbformat": 4,
  "nbformat_minor": 0,
  "metadata": {
    "colab": {
      "name": "Pattern Discovery in Data Mining - Mining Contiguous Sequential Patterns in Text.ipynb",
      "provenance": [],
      "collapsed_sections": [],
      "toc_visible": true
    },
    "kernelspec": {
      "name": "python3",
      "display_name": "Python 3"
    }
  },
  "cells": [
    {
      "cell_type": "markdown",
      "metadata": {
        "id": "2CV34UsON7Ic",
        "colab_type": "text"
      },
      "source": [
        "# Programming Assignment: Mining Contiguous Sequential Patterns in Text\n",
        "\n",
        "## Pattern Discovery in Data Mining Course - Coursera\n",
        "\n",
        "* Author: Michael Onishi\n",
        "* Date: October 27th, 2019"
      ]
    },
    {
      "cell_type": "markdown",
      "metadata": {
        "id": "ioZUy0CcJxUk",
        "colab_type": "text"
      },
      "source": [
        "##Description\n",
        "In this programming assignment, you are required to implement a contiguous sequential pattern mining algorithm and apply it on text data to mine potential phrase candidates.\n",
        "\n",
        "###Input\n",
        "The provided input file (\"reviews_sample.txt\") consists of 10,000 online reviews from Yelp users. The reviews have been stemmed (to remove the postfix of each word so words with similar semantics can have the same form), and most of the punctuation has been removed. Therefore, each line is basically a list of strings separated by spaces.\n",
        "\n",
        "An example line is provided as below:\n",
        "\n",
        "cold cheap beer good bar food good service looking great pittsburgh style fish sandwich place breading light fish plentiful good side home cut fry good grilled chicken salad steak soup day homemade lot special great place lunch bar snack beer\n",
        "\n",
        "###Output\n",
        "You need to implement an algorithm to mine contiguous sequential patterns that are frequent in the input data. A contiguous sequential pattern is a sequence of items that frequently appears as a consecutive subsequence in a database of many sequences. For example, if the database is\n",
        "\n",
        "1. A,B,A,C\n",
        "1. A,C,A,B,A,B\n",
        "1. B,A,A,C,D\n",
        "\n",
        "and the minimum support is 2, then patterns like \"A,B,A\" or \"A,C\" are both frequent contiguous sequential patterns, while the pattern \"A,A\" is not a frequent contiguous sequential pattern because in the first two sequences the two A's are not consecutive to each other. Notice that it is still a frequent sequential pattern though.\n",
        "\n",
        "Also notice that multiple appearances of a subsequence in a single sequence record only counts once. For example, the pattern \"A,B\" appears 1 time in the first sequence and 2 times in the second, but its support should be calculated as 2, as there are only 2 records containing subsequence \"A,B\".\n",
        "\n",
        "When implementing the algorithm, you could use any programming language you like. We only need your result pattern file, not your source code file.\n",
        "\n",
        "Please set the relative minimum support to 0.01 and run it on the given text file. In other words, you need to extract all the frequent contiguous sequential patterns that have an absolute support no smaller than 100.\n",
        "\n",
        "Please write all the frequent contiguous sequential patterns along with their absolute supports into a text file named \"patterns.txt\". Every line corresponds to exactly one pattern you found and should be in the following format:\n",
        "\n",
        "support:item_1;item_2;item_3\n",
        "\n",
        "For example, suppose the phrase \"parking lot\" has an absolute support 133, then the line corresponding to this frequent contiguous sequential pattern in \"patterns.txt\" should be:\n",
        "\n",
        "133:parking;lot\n",
        "\n",
        "Notice that the order does matter in sequential pattern mining. That is to say,\n",
        "\n",
        "133:lot;parking\n",
        "\n",
        "may be graded as incorrect."
      ]
    },
    {
      "cell_type": "code",
      "metadata": {
        "id": "5OEFFBil3T6o",
        "colab_type": "code",
        "outputId": "c9aec5ef-de6a-4466-fb28-2cb2f0eb0bd7",
        "colab": {
          "base_uri": "https://localhost:8080/",
          "height": 224
        }
      },
      "source": [
        "! wget -O reviews_sample.txt \"https://d3c33hcgiwev3.cloudfront.net/_287fe8c0690c2226d170862ad29a51da_reviews_sample.txt?Expires=1572307200&Signature=fHq5VCTmhXHZiQYHtFkthwSnwm07cgtx5b4FukDuzL65KUZzR~Ar5zIU4dZZih1XWicJAbJoYm57Wnzi9ng~ZPKS71R45Vjb1QxOBb4QZ-amKrTm~Mu6y1-47~lKTfa5om-QCYNqHpY-n~zXkGWDLv6~VuFbCCkUcIZh-RUlpvI_&Key-Pair-Id=APKAJLTNE6QMUY6HBC5A\""
      ],
      "execution_count": 1,
      "outputs": [
        {
          "output_type": "stream",
          "text": [
            "--2019-10-28 12:56:02--  https://d3c33hcgiwev3.cloudfront.net/_287fe8c0690c2226d170862ad29a51da_reviews_sample.txt?Expires=1572307200&Signature=fHq5VCTmhXHZiQYHtFkthwSnwm07cgtx5b4FukDuzL65KUZzR~Ar5zIU4dZZih1XWicJAbJoYm57Wnzi9ng~ZPKS71R45Vjb1QxOBb4QZ-amKrTm~Mu6y1-47~lKTfa5om-QCYNqHpY-n~zXkGWDLv6~VuFbCCkUcIZh-RUlpvI_&Key-Pair-Id=APKAJLTNE6QMUY6HBC5A\n",
            "Resolving d3c33hcgiwev3.cloudfront.net (d3c33hcgiwev3.cloudfront.net)... 54.230.82.77, 54.230.82.31, 54.230.82.8, ...\n",
            "Connecting to d3c33hcgiwev3.cloudfront.net (d3c33hcgiwev3.cloudfront.net)|54.230.82.77|:443... connected.\n",
            "HTTP request sent, awaiting response... 200 OK\n",
            "Length: 4055171 (3.9M) [text/plain]\n",
            "Saving to: ‘reviews_sample.txt’\n",
            "\n",
            "reviews_sample.txt  100%[===================>]   3.87M  7.49MB/s    in 0.5s    \n",
            "\n",
            "2019-10-28 12:56:03 (7.49 MB/s) - ‘reviews_sample.txt’ saved [4055171/4055171]\n",
            "\n"
          ],
          "name": "stdout"
        }
      ]
    },
    {
      "cell_type": "code",
      "metadata": {
        "id": "00L3IhONPp0I",
        "colab_type": "code",
        "colab": {}
      },
      "source": [
        "records = []\n",
        "with open('reviews_sample.txt') as in_file:\n",
        "  for line in in_file:\n",
        "    records.append(line.strip().split())"
      ],
      "execution_count": 0,
      "outputs": []
    },
    {
      "cell_type": "code",
      "metadata": {
        "id": "6MmnwEK5TXgT",
        "colab_type": "code",
        "outputId": "f6c5127e-d9f5-4901-d4a6-03c27c4336ae",
        "colab": {
          "base_uri": "https://localhost:8080/",
          "height": 34
        }
      },
      "source": [
        "minsup = 0.01 * len(records)\n",
        "print(minsup)"
      ],
      "execution_count": 3,
      "outputs": [
        {
          "output_type": "stream",
          "text": [
            "100.0\n"
          ],
          "name": "stdout"
        }
      ]
    },
    {
      "cell_type": "code",
      "metadata": {
        "id": "bnGTnmcEht09",
        "colab_type": "code",
        "colab": {}
      },
      "source": [
        "from collections import defaultdict\n",
        "ans = []\n",
        "appeared = set()\n",
        "k = 0\n",
        "while True:\n",
        "  dk = defaultdict(int)\n",
        "  for r in records:\n",
        "    appeared.clear()\n",
        "    for i in range(0, len(r)-k):\n",
        "      seq = tuple(r[i:i+k+1])\n",
        "      if seq not in appeared:\n",
        "        dk[seq] += 1\n",
        "        appeared.add(seq)\n",
        "\n",
        "  for seq,count in list(dk.items()):\n",
        "    if count < minsup:\n",
        "      dk.pop(seq)\n",
        "\n",
        "  if len(dk) > 0:\n",
        "    ans.append(dk)\n",
        "    k += 1\n",
        "  else:\n",
        "    break;"
      ],
      "execution_count": 0,
      "outputs": []
    },
    {
      "cell_type": "code",
      "metadata": {
        "id": "K5SFcB-WMTZ3",
        "colab_type": "code",
        "outputId": "20b37262-325f-467b-eac2-2f4a8553c3fa",
        "colab": {
          "base_uri": "https://localhost:8080/",
          "height": 71
        }
      },
      "source": [
        "print(list(ans[0].items())[:5])\n",
        "print(list(ans[1].items())[:5])"
      ],
      "execution_count": 5,
      "outputs": [
        {
          "output_type": "stream",
          "text": [
            "[(('walking',), 248), (('doe',), 391), (('seem',), 286), (('like',), 2942), (('year',), 1085)]\n",
            "[(('year', 'ago'), 170), (('customer', 'service'), 209), (('great', 'place'), 273), (('ice', 'cream'), 220), (('really', 'good'), 274)]\n"
          ],
          "name": "stdout"
        }
      ]
    },
    {
      "cell_type": "code",
      "metadata": {
        "id": "q86DNJDepICJ",
        "colab_type": "code",
        "colab": {}
      },
      "source": [
        "with open('patterns.txt', 'w') as out_file:\n",
        "  for items in ans:\n",
        "    for k,v in list(items.items()):\n",
        "      out_file.write(f\"{v}:{';'.join(list(k))}\\n\")"
      ],
      "execution_count": 0,
      "outputs": []
    },
    {
      "cell_type": "code",
      "metadata": {
        "id": "g2jP-5RcL9bt",
        "colab_type": "code",
        "colab": {}
      },
      "source": [
        ""
      ],
      "execution_count": 0,
      "outputs": []
    }
  ]
}