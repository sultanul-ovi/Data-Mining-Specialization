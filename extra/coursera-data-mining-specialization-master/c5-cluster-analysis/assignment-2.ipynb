{
  "nbformat": 4,
  "nbformat_minor": 0,
  "metadata": {
    "colab": {
      "name": "Cluster Analysis in Data Mining - Implementing Clustering Validation Measures.ipynb",
      "provenance": [],
      "collapsed_sections": [],
      "toc_visible": true
    },
    "kernelspec": {
      "name": "python3",
      "display_name": "Python 3"
    }
  },
  "cells": [
    {
      "cell_type": "markdown",
      "metadata": {
        "id": "2CV34UsON7Ic",
        "colab_type": "text"
      },
      "source": [
        "# Programming Assignment: Implementing Clustering Validation Measures\n",
        "\n",
        "## Cluster Analysis in Data Mining Course - Coursera\n",
        "\n",
        "* Author: Michael Onishi\n",
        "* Date: October 30th, 2019"
      ]
    },
    {
      "cell_type": "markdown",
      "metadata": {
        "id": "ioZUy0CcJxUk",
        "colab_type": "text"
      },
      "source": [
        "##Description\n",
        "In this assignment, you will be implementing two clustering validation measures: Normalized Mutual Information (NMI) and Jaccard similarity.\n",
        "\n",
        "You will be given one ground-truth clustering (partition) results and five clustering test cases. You need to evaluate the clustering test cases with regard to the ground-truth by NMI and Jaccard measures and submit your measures. You will be graded based on whether your measures are correct.\n",
        "\n",
        "The ground-truth clustering (partition) results are stored in file \"partitions.txt\"; the five clustering result test cases are stored in file \"clustering_1.txt\", ..., \"clustering_5.txt\".\n",
        "\n",
        "All files including partitions.txt, clustering_1.txt, ..., can be downloaded from the data.zip file attached below.\n",
        "\n",
        "Each clustering result (both ground-truth and test cases) is represented by a file. Each line in a file consists of two integers, separated by a space. The first integer represents the id of a data item, and the second integer represents the id of the cluster which this item belongs to.\n",
        "\n",
        "You need to submit a file titled \"scores.txt\" consisting of 5 lines. Each line contains two float numbers separated by a space. The first number of the i-th line represents the NMI measure you calculated for the i-th test case i (i.e. \"clustering_i.txt\") with regard to the ground-truth given in \"partitions.txt\", and the second number of the i-th line represents the Jaccard measure you calculated for the i-th test case.\n",
        "\n",
        "As an example, a valid submission may look like:\n",
        "\n",
        "<pre>\n",
        "0.1000000 0.2000000\n",
        "0.3000000 0.4000000\n",
        "0.5000000 0.6000000\n",
        "0.7000000 0.8000000\n",
        "0.9000000 1.0000000\n",
        "</pre>\n",
        "\n",
        "You will be graded based on whether your file format is correct and onhow many measures you submitted are correct.\n",
        "\n"
      ]
    },
    {
      "cell_type": "code",
      "metadata": {
        "id": "5OEFFBil3T6o",
        "colab_type": "code",
        "outputId": "430d6e12-7db0-4bb3-fc50-6b6de7a050e7",
        "colab": {
          "base_uri": "https://localhost:8080/",
          "height": 462
        }
      },
      "source": [
        "! wget -O data.zip \"https://d3c33hcgiwev3.cloudfront.net/_75cb9c8852d35d351cb44551fcd26d3a_data.zip?Expires=1572480000&Signature=QpJh7T~xz7k8jXn7ZRrxnc8mJpQMOCzq-dUREztP0w-aWKjw8CuDSo9QHUIIAbW5whFKBZUtmTnkXveEEbuFVTjPOvpNiVoHMwsTHvABM82dzMsxiS0juyonnxk~Xzr5rkpm6pCdusgzULbBsvMyxik7yYL2zmARk~UsK9LGNlw_&Key-Pair-Id=APKAJLTNE6QMUY6HBC5A\"\n",
        "! unzip data.zip"
      ],
      "execution_count": 0,
      "outputs": [
        {
          "output_type": "stream",
          "text": [
            "--2019-10-30 12:22:21--  https://d3c33hcgiwev3.cloudfront.net/_75cb9c8852d35d351cb44551fcd26d3a_data.zip?Expires=1572480000&Signature=QpJh7T~xz7k8jXn7ZRrxnc8mJpQMOCzq-dUREztP0w-aWKjw8CuDSo9QHUIIAbW5whFKBZUtmTnkXveEEbuFVTjPOvpNiVoHMwsTHvABM82dzMsxiS0juyonnxk~Xzr5rkpm6pCdusgzULbBsvMyxik7yYL2zmARk~UsK9LGNlw_&Key-Pair-Id=APKAJLTNE6QMUY6HBC5A\n",
            "Resolving d3c33hcgiwev3.cloudfront.net (d3c33hcgiwev3.cloudfront.net)... 13.32.86.189, 13.32.86.5, 13.32.86.3, ...\n",
            "Connecting to d3c33hcgiwev3.cloudfront.net (d3c33hcgiwev3.cloudfront.net)|13.32.86.189|:443... connected.\n",
            "HTTP request sent, awaiting response... 200 OK\n",
            "Length: 6776 (6.6K) [application/zip]\n",
            "Saving to: ‘data.zip’\n",
            "\n",
            "data.zip            100%[===================>]   6.62K  --.-KB/s    in 0.001s  \n",
            "\n",
            "2019-10-30 12:22:26 (5.84 MB/s) - ‘data.zip’ saved [6776/6776]\n",
            "\n",
            "Archive:  data.zip\n",
            "  inflating: clustering_1.txt        \n",
            "   creating: __MACOSX/\n",
            "  inflating: __MACOSX/._clustering_1.txt  \n",
            "  inflating: clustering_2.txt        \n",
            "  inflating: __MACOSX/._clustering_2.txt  \n",
            "  inflating: clustering_3.txt        \n",
            "  inflating: __MACOSX/._clustering_3.txt  \n",
            "  inflating: clustering_4.txt        \n",
            "  inflating: __MACOSX/._clustering_4.txt  \n",
            "  inflating: clustering_5.txt        \n",
            "  inflating: __MACOSX/._clustering_5.txt  \n",
            "  inflating: partitions.txt          \n",
            "  inflating: __MACOSX/._partitions.txt  \n"
          ],
          "name": "stdout"
        }
      ]
    },
    {
      "cell_type": "code",
      "metadata": {
        "id": "00L3IhONPp0I",
        "colab_type": "code",
        "colab": {}
      },
      "source": [
        "import pandas as pd\n",
        "import numpy as np\n",
        "import math\n",
        "\n",
        "# number of combinations for calculation Jaccard\n",
        "def nCr(n,r):\n",
        "  if n-r == 0:\n",
        "    return 1\n",
        "  if n-r < 0:\n",
        "    return 0\n",
        "  f = math.factorial\n",
        "  return f(n) // f(r) // f(n-r)\n",
        "\n",
        "column_names = []\n",
        "records = {}\n",
        "with open('partitions.txt') as in_file:\n",
        "  column_names.append(in_file.name[:-4])\n",
        "  for line in in_file:\n",
        "    r = line.strip().split()\n",
        "    records[int(r[0])] = [int(r[1])]\n",
        "\n",
        "for i in range(1, 6):\n",
        "  with open(f'clustering_{i}.txt') as in_file:\n",
        "    column_names.append(in_file.name[:-4])\n",
        "    for line in in_file:\n",
        "      r = line.strip().split()\n",
        "      records[int(r[0])].append(int(r[1]))  "
      ],
      "execution_count": 0,
      "outputs": []
    },
    {
      "cell_type": "code",
      "metadata": {
        "id": "WeqkyQV-dd6H",
        "colab_type": "code",
        "outputId": "1e30b971-9476-48ef-e931-f2b588daec66",
        "colab": {
          "base_uri": "https://localhost:8080/",
          "height": 88
        }
      },
      "source": [
        "print(list(records.items())[:5])\n",
        "print(column_names)\n",
        "print(len(records))"
      ],
      "execution_count": 0,
      "outputs": [
        {
          "output_type": "stream",
          "text": [
            "[(1, [2, 2, 2, 2, 2, 0]), (2, [0, 0, 0, 0, 0, 0]), (3, [2, 2, 1, 1, 2, 0]), (4, [1, 1, 1, 1, 1, 1]), (5, [2, 2, 2, 2, 2, 0])]\n",
            "['partitions', 'clustering_1', 'clustering_2', 'clustering_3', 'clustering_4', 'clustering_5']\n",
            "300\n"
          ],
          "name": "stdout"
        }
      ]
    },
    {
      "cell_type": "code",
      "metadata": {
        "id": "bnGTnmcEht09",
        "colab_type": "code",
        "colab": {}
      },
      "source": [
        "N = len(records)\n",
        "df = pd.DataFrame(data = records.values(), index = records.keys(), columns = column_names)"
      ],
      "execution_count": 0,
      "outputs": []
    },
    {
      "cell_type": "code",
      "metadata": {
        "id": "4XpTZnetrB_G",
        "colab_type": "code",
        "outputId": "bdc29d0a-d9b5-4623-e7d9-6291bdd2db84",
        "colab": {
          "base_uri": "https://localhost:8080/",
          "height": 204
        }
      },
      "source": [
        "df.head()"
      ],
      "execution_count": 0,
      "outputs": [
        {
          "output_type": "execute_result",
          "data": {
            "text/html": [
              "<div>\n",
              "<style scoped>\n",
              "    .dataframe tbody tr th:only-of-type {\n",
              "        vertical-align: middle;\n",
              "    }\n",
              "\n",
              "    .dataframe tbody tr th {\n",
              "        vertical-align: top;\n",
              "    }\n",
              "\n",
              "    .dataframe thead th {\n",
              "        text-align: right;\n",
              "    }\n",
              "</style>\n",
              "<table border=\"1\" class=\"dataframe\">\n",
              "  <thead>\n",
              "    <tr style=\"text-align: right;\">\n",
              "      <th></th>\n",
              "      <th>partitions</th>\n",
              "      <th>clustering_1</th>\n",
              "      <th>clustering_2</th>\n",
              "      <th>clustering_3</th>\n",
              "      <th>clustering_4</th>\n",
              "      <th>clustering_5</th>\n",
              "    </tr>\n",
              "  </thead>\n",
              "  <tbody>\n",
              "    <tr>\n",
              "      <th>1</th>\n",
              "      <td>2</td>\n",
              "      <td>2</td>\n",
              "      <td>2</td>\n",
              "      <td>2</td>\n",
              "      <td>2</td>\n",
              "      <td>0</td>\n",
              "    </tr>\n",
              "    <tr>\n",
              "      <th>2</th>\n",
              "      <td>0</td>\n",
              "      <td>0</td>\n",
              "      <td>0</td>\n",
              "      <td>0</td>\n",
              "      <td>0</td>\n",
              "      <td>0</td>\n",
              "    </tr>\n",
              "    <tr>\n",
              "      <th>3</th>\n",
              "      <td>2</td>\n",
              "      <td>2</td>\n",
              "      <td>1</td>\n",
              "      <td>1</td>\n",
              "      <td>2</td>\n",
              "      <td>0</td>\n",
              "    </tr>\n",
              "    <tr>\n",
              "      <th>4</th>\n",
              "      <td>1</td>\n",
              "      <td>1</td>\n",
              "      <td>1</td>\n",
              "      <td>1</td>\n",
              "      <td>1</td>\n",
              "      <td>1</td>\n",
              "    </tr>\n",
              "    <tr>\n",
              "      <th>5</th>\n",
              "      <td>2</td>\n",
              "      <td>2</td>\n",
              "      <td>2</td>\n",
              "      <td>2</td>\n",
              "      <td>2</td>\n",
              "      <td>0</td>\n",
              "    </tr>\n",
              "  </tbody>\n",
              "</table>\n",
              "</div>"
            ],
            "text/plain": [
              "   partitions  clustering_1  ...  clustering_4  clustering_5\n",
              "1           2             2  ...             2             0\n",
              "2           0             0  ...             0             0\n",
              "3           2             2  ...             2             0\n",
              "4           1             1  ...             1             1\n",
              "5           2             2  ...             2             0\n",
              "\n",
              "[5 rows x 6 columns]"
            ]
          },
          "metadata": {
            "tags": []
          },
          "execution_count": 208
        }
      ]
    },
    {
      "cell_type": "code",
      "metadata": {
        "id": "lEEKPqiD81Zo",
        "colab_type": "code",
        "colab": {}
      },
      "source": [
        "nt = df.partitions.value_counts()\n",
        "nci = [(df[f'clustering_{i}'].value_counts()) for i in range(1,6)]\n",
        "pt = (nt / N)\n",
        "pci = [(nci[i] / N) for i in range(5)]"
      ],
      "execution_count": 0,
      "outputs": []
    },
    {
      "cell_type": "code",
      "metadata": {
        "id": "42wSF4Z1-fXM",
        "colab_type": "code",
        "outputId": "ce795cbc-de36-4d3e-a9ff-49375a3f05d2",
        "colab": {
          "base_uri": "https://localhost:8080/",
          "height": 374
        }
      },
      "source": [
        "print(nt)\n",
        "print(nci)"
      ],
      "execution_count": 0,
      "outputs": [
        {
          "output_type": "stream",
          "text": [
            "2    100\n",
            "1    100\n",
            "0    100\n",
            "Name: partitions, dtype: int64\n",
            "[2    100\n",
            "1    100\n",
            "0    100\n",
            "Name: clustering_1, dtype: int64, 2    100\n",
            "1    100\n",
            "0    100\n",
            "Name: clustering_2, dtype: int64, 2    100\n",
            "1    100\n",
            "0    100\n",
            "Name: clustering_3, dtype: int64, 2    94\n",
            "1    92\n",
            "0    92\n",
            "3    12\n",
            "4    10\n",
            "Name: clustering_4, dtype: int64, 0    200\n",
            "1    100\n",
            "Name: clustering_5, dtype: int64]\n"
          ],
          "name": "stdout"
        }
      ]
    },
    {
      "cell_type": "code",
      "metadata": {
        "id": "i_-BRUFdugGg",
        "colab_type": "code",
        "colab": {}
      },
      "source": [
        "ans = []\n",
        "ht = -(pt*np.log2(pt)).sum()\n",
        "for k in range(1,6):\n",
        "  ict = 0.0\n",
        "  tp = 0.0\n",
        "  fn = 0.0\n",
        "  fp = 0.0\n",
        "\n",
        "  for j in pt.index:\n",
        "    fn += nCr(nt[j], 2)\n",
        "\n",
        "    for i in pci[k-1].index:\n",
        "      nij = len(df.query(f'partitions == {j} & clustering_{k} == {i}'))\n",
        "      pij = nij / N\n",
        "      #print(f'partitions == {j} & clustering_{k} == {i}', pij)\n",
        "      if nij > 0:\n",
        "        tp += nCr(nij, 2)\n",
        "        ict += pij * np.log2(pij/(pci[k-1][i] * pt[j]))\n",
        "  \n",
        "  for i in nci[k-1].index:\n",
        "    fp += nCr(nci[k-1][i], 2)\n",
        "\n",
        "  fn -= tp\n",
        "  fp -= tp\n",
        "  jaccard = tp / (tp + fn + fp)\n",
        "  hc = -(pci[k-1]*np.log2(pci[k-1])).sum()\n",
        "  ans.append([ict/np.sqrt(ht * hc), jaccard])"
      ],
      "execution_count": 0,
      "outputs": []
    },
    {
      "cell_type": "code",
      "metadata": {
        "id": "3f-x-sZ2QquZ",
        "colab_type": "code",
        "outputId": "c6bb25e7-1340-4d73-e26e-028ab1c81886",
        "colab": {
          "base_uri": "https://localhost:8080/",
          "height": 102
        }
      },
      "source": [
        "ans"
      ],
      "execution_count": 0,
      "outputs": [
        {
          "output_type": "execute_result",
          "data": {
            "text/plain": [
              "[[0.8896247665800591, 0.9116889804325438],\n",
              " [0.6456368113477221, 0.6794842795747569],\n",
              " [0.3915437463816927, 0.46493045279668543],\n",
              " [0.7677891606902613, 0.8005979461848434],\n",
              " [0.7611702597222877, 0.5975855130784709]]"
            ]
          },
          "metadata": {
            "tags": []
          },
          "execution_count": 212
        }
      ]
    },
    {
      "cell_type": "code",
      "metadata": {
        "id": "q86DNJDepICJ",
        "colab_type": "code",
        "colab": {}
      },
      "source": [
        "with open('scores.txt', 'w') as out_file:\n",
        "  for a in ans:\n",
        "    out_file.write(\" \".join(map(str,a)))\n",
        "    out_file.write(\"\\n\")"
      ],
      "execution_count": 0,
      "outputs": []
    },
    {
      "cell_type": "code",
      "metadata": {
        "id": "VcdLgRjbntFG",
        "colab_type": "code",
        "colab": {}
      },
      "source": [
        ""
      ],
      "execution_count": 0,
      "outputs": []
    }
  ]
}