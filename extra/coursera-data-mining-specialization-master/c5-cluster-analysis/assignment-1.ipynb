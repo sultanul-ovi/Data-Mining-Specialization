{
  "nbformat": 4,
  "nbformat_minor": 0,
  "metadata": {
    "colab": {
      "name": "Cluster Analysis in Data Mining - Implementing the K-means Clustering Algorithm.ipynb",
      "provenance": [],
      "collapsed_sections": [],
      "toc_visible": true
    },
    "kernelspec": {
      "name": "python3",
      "display_name": "Python 3"
    }
  },
  "cells": [
    {
      "cell_type": "markdown",
      "metadata": {
        "id": "2CV34UsON7Ic",
        "colab_type": "text"
      },
      "source": [
        "# Programming Assignment: Implementing the K-means Clustering Algorithm\n",
        "\n",
        "## Cluster Analysis in Data Mining Course - Coursera\n",
        "\n",
        "* Author: Michael Onishi\n",
        "* Date: October 29th, 2019"
      ]
    },
    {
      "cell_type": "markdown",
      "metadata": {
        "id": "ioZUy0CcJxUk",
        "colab_type": "text"
      },
      "source": [
        "##Description\n",
        "In this programming assignment, you are required to implement the k-means algorithm and apply it to a real-life data set.\n",
        "\n",
        "###Input\n",
        "The provided input file (\"places.txt\") consists of the locations of 300 places in the US. Each location is a two-dimensional point that represents the longitude and latitude of the place. For example, \"-112.1,33.5\" means the longitude of the place is -112.1, and the latitude is 33.5.\n",
        "\n",
        "###Output\n",
        "You are required to implement the k-means algorithm and use it to cluster the 300 locations into three clusters, such that the locations in the same cluster are geographically close to each other.\n",
        "\n",
        "After reading in the 300 locations in \"places.txt\" and applying the k-means algorithm (with k = 3), you are required to generate an output file named \"clusters.txt\". The output file should contain exactly 300 lines, where each line represents the cluster label of each location. Every line should be in the format: location_id cluster_label.\n",
        "\n",
        "An example snippet of the output \"clusters.txt\" file is provided below:\n",
        "\n",
        "0 1\n",
        "\n",
        "1 0\n",
        "\n",
        "2 1\n",
        "\n",
        "3 2\n",
        "\n",
        "4 0\n",
        "\n",
        "In the above, the five lines denote the cluster ids of the first five locations in the input file, which means:\n",
        "\n",
        "The first location belongs to cluster \"1\"\n",
        "\n",
        "The second location belongs to cluster \"0\"\n",
        "\n",
        "The third location belongs to cluster \"1\"\n",
        "\n",
        "The fourth location belongs to cluster \"2\"\n",
        "\n",
        "The fifth location belongs to cluster \"0\""
      ]
    },
    {
      "cell_type": "code",
      "metadata": {
        "id": "5OEFFBil3T6o",
        "colab_type": "code",
        "outputId": "99852ac2-1954-468f-a536-d728d712fb19",
        "colab": {
          "base_uri": "https://localhost:8080/",
          "height": 224
        }
      },
      "source": [
        "! wget -O places.txt \"https://d3c33hcgiwev3.cloudfront.net/_65d999cccd24abb4ce496639c708f4fe_places.txt?Expires=1572480000&Signature=FcY6lkRYgZ0dGG1rLQshet-YifayD-7IQry55Tfsce0q-gczy0dkPtdgG1YM2uH32ZFuO4O~k5dnZGhqtqMz1smtwZZckR8pl3ZiQzpFSf8xX4lTNEzJI9GhSPbAnIsuYCLvp~ThvnAsQceZtl3TCm52gwLWZ0p-L0BT-MYw~VA_&Key-Pair-Id=APKAJLTNE6QMUY6HBC5A\""
      ],
      "execution_count": 1,
      "outputs": [
        {
          "output_type": "stream",
          "text": [
            "--2019-10-29 13:48:45--  https://d3c33hcgiwev3.cloudfront.net/_65d999cccd24abb4ce496639c708f4fe_places.txt?Expires=1572480000&Signature=FcY6lkRYgZ0dGG1rLQshet-YifayD-7IQry55Tfsce0q-gczy0dkPtdgG1YM2uH32ZFuO4O~k5dnZGhqtqMz1smtwZZckR8pl3ZiQzpFSf8xX4lTNEzJI9GhSPbAnIsuYCLvp~ThvnAsQceZtl3TCm52gwLWZ0p-L0BT-MYw~VA_&Key-Pair-Id=APKAJLTNE6QMUY6HBC5A\n",
            "Resolving d3c33hcgiwev3.cloudfront.net (d3c33hcgiwev3.cloudfront.net)... 13.224.197.184, 13.224.197.14, 13.224.197.187, ...\n",
            "Connecting to d3c33hcgiwev3.cloudfront.net (d3c33hcgiwev3.cloudfront.net)|13.224.197.184|:443... connected.\n",
            "HTTP request sent, awaiting response... 200 OK\n",
            "Length: 6955 (6.8K) [text/plain]\n",
            "Saving to: ‘places.txt’\n",
            "\n",
            "\rplaces.txt            0%[                    ]       0  --.-KB/s               \rplaces.txt          100%[===================>]   6.79K  --.-KB/s    in 0s      \n",
            "\n",
            "2019-10-29 13:48:45 (1.18 GB/s) - ‘places.txt’ saved [6955/6955]\n",
            "\n"
          ],
          "name": "stdout"
        }
      ]
    },
    {
      "cell_type": "code",
      "metadata": {
        "id": "00L3IhONPp0I",
        "colab_type": "code",
        "colab": {}
      },
      "source": [
        "import numpy as np\n",
        "\n",
        "records = []\n",
        "with open('places.txt') as in_file:\n",
        "  for line in in_file:\n",
        "    records.append([float(x) for x in line.strip().split(\",\")])\n",
        "records = np.array(records)"
      ],
      "execution_count": 0,
      "outputs": []
    },
    {
      "cell_type": "code",
      "metadata": {
        "id": "WeqkyQV-dd6H",
        "colab_type": "code",
        "colab": {
          "base_uri": "https://localhost:8080/",
          "height": 119
        },
        "outputId": "38841a1a-aafe-42bc-fb21-727ae97693e2"
      },
      "source": [
        "print(records[:5])\n",
        "print(len(records))"
      ],
      "execution_count": 3,
      "outputs": [
        {
          "output_type": "stream",
          "text": [
            "[[-112.0707922   33.4516246]\n",
            " [-112.0655423   33.4492979]\n",
            " [-112.0739312   33.4564905]\n",
            " [-112.0748658   33.4701155]\n",
            " [ -80.5256905   43.4770992]]\n",
            "300\n"
          ],
          "name": "stdout"
        }
      ]
    },
    {
      "cell_type": "code",
      "metadata": {
        "id": "NDwbjGEtfTct",
        "colab_type": "code",
        "colab": {}
      },
      "source": [
        "%matplotlib inline\n",
        "import matplotlib.pyplot as plt\n",
        "import seaborn as sns; sns.set()  # for plot styling\n",
        "import numpy as np\n",
        "\n",
        "def plot(X, Y = None, centroids = None):\n",
        "  plt.scatter(X[:, 0], X[:, 1], s=50, c=Y, cmap='viridis');\n",
        "\n",
        "  if centroids is not None:\n",
        "    plt.scatter(centroids[:, 0], centroids[:, 1], c='black', s=200, alpha=0.1);"
      ],
      "execution_count": 0,
      "outputs": []
    },
    {
      "cell_type": "code",
      "metadata": {
        "id": "e5J-TlMAhZ2x",
        "colab_type": "code",
        "colab": {
          "base_uri": "https://localhost:8080/",
          "height": 271
        },
        "outputId": "c97c1c49-8089-4173-a5ba-9343e8eff245"
      },
      "source": [
        "plot(records)"
      ],
      "execution_count": 5,
      "outputs": [
        {
          "output_type": "display_data",
          "data": {
            "image/png": "[encoded data removed]",
            "text/plain": [
              "<Figure size 432x288 with 1 Axes>"
            ]
          },
          "metadata": {
            "tags": []
          }
        }
      ]
    },
    {
      "cell_type": "code",
      "metadata": {
        "colab_type": "code",
        "id": "Bf8iP3xypPh8",
        "colab": {}
      },
      "source": [
        "from random import sample \n",
        "\n",
        "N = len(records)\n",
        "K = 3"
      ],
      "execution_count": 0,
      "outputs": []
    },
    {
      "cell_type": "code",
      "metadata": {
        "id": "bnGTnmcEht09",
        "colab_type": "code",
        "colab": {
          "base_uri": "https://localhost:8080/",
          "height": 122
        },
        "outputId": "86003fa6-bbf1-49d7-e8cb-13424b634123"
      },
      "source": [
        "best_ans = None\n",
        "global_min = float(\"inf\")\n",
        "eps = 0.0001\n",
        "# repeat the procedure some times to get some distinct initializations\n",
        "for _ in range(1000):\n",
        "  prev_sum = float(\"inf\")\n",
        "  centroids = records[sample(range(N), K)]\n",
        "  ans = None\n",
        "  for _ in range(1000):\n",
        "    # assign each point to the closest centroid\n",
        "    dist = np.array([np.linalg.norm(records - centroids[i], axis = 1) for i in range(K)])\n",
        "    ans = np.argmin(dist, axis=0)\n",
        "\n",
        "    new_sum = sum([np.linalg.norm(records[ans == i] - centroids[i], axis = 1).sum() for i in range(K)])\n",
        "    \n",
        "    if (prev_sum - new_sum) < eps:\n",
        "      break\n",
        "    prev_sum = new_sum\n",
        "\n",
        "    # calculate new centroids\n",
        "    centroids = np.array([records[ans == i].mean(axis=0) for i in range(K)])\n",
        "\n",
        "  if new_sum < global_min:\n",
        "    print('new global min ', new_sum)\n",
        "    global_min = new_sum\n",
        "    best_ans = ans"
      ],
      "execution_count": 7,
      "outputs": [
        {
          "output_type": "stream",
          "text": [
            "new global min  5.116552062467608\n",
            "new global min  5.1165520624676075\n"
          ],
          "name": "stdout"
        },
        {
          "output_type": "stream",
          "text": [
            "/usr/local/lib/python3.6/dist-packages/ipykernel_launcher.py:21: RuntimeWarning: Mean of empty slice.\n",
            "/usr/local/lib/python3.6/dist-packages/numpy/core/_methods.py:154: RuntimeWarning: invalid value encountered in true_divide\n",
            "  ret, rcount, out=ret, casting='unsafe', subok=False)\n"
          ],
          "name": "stderr"
        }
      ]
    },
    {
      "cell_type": "code",
      "metadata": {
        "id": "K5SFcB-WMTZ3",
        "colab_type": "code",
        "outputId": "e454b140-3761-423d-bbe0-0528e9e9938d",
        "colab": {
          "base_uri": "https://localhost:8080/",
          "height": 268
        }
      },
      "source": [
        "plot(records, best_ans, centroids)"
      ],
      "execution_count": 8,
      "outputs": [
        {
          "output_type": "display_data",
          "data": {
            "image/png": "[encoded data removed]",
            "text/plain": [
              "<Figure size 432x288 with 1 Axes>"
            ]
          },
          "metadata": {
            "tags": []
          }
        }
      ]
    },
    {
      "cell_type": "code",
      "metadata": {
        "id": "q86DNJDepICJ",
        "colab_type": "code",
        "colab": {}
      },
      "source": [
        "with open('clusters.txt', 'w') as out_file:\n",
        "  for i in range(N):\n",
        "    out_file.write(f\"{i} {best_ans[i]}\\n\")"
      ],
      "execution_count": 0,
      "outputs": []
    },
    {
      "cell_type": "code",
      "metadata": {
        "id": "VcdLgRjbntFG",
        "colab_type": "code",
        "colab": {}
      },
      "source": [
        ""
      ],
      "execution_count": 0,
      "outputs": []
    }
  ]
}