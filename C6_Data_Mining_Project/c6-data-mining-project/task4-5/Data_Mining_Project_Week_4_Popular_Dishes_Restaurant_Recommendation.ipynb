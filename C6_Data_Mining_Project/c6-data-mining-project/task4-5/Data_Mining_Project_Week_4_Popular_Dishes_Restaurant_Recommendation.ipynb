{
  "nbformat": 4,
  "nbformat_minor": 0,
  "metadata": {
    "colab": {
      "name": "Data_Mining_Project_Week_4_Popular_Dishes_Restaurant_Recommendation.ipynb",
      "provenance": [],
      "collapsed_sections": [],
      "toc_visible": true
    },
    "kernelspec": {
      "display_name": "Python 3",
      "language": "python",
      "name": "python3"
    },
    "language_info": {
      "codemirror_mode": {
        "name": "ipython",
        "version": 3
      },
      "file_extension": ".py",
      "mimetype": "text/x-python",
      "name": "python",
      "nbconvert_exporter": "python",
      "pygments_lexer": "ipython3",
      "version": "3.7.3"
    }
  },
  "cells": [
    {
      "cell_type": "markdown",
      "metadata": {
        "colab_type": "text",
        "id": "2CV34UsON7Ic"
      },
      "source": [
        "# Data Mining Project - Week 4 - Popular Dishes & Restaurant Recommendation\n",
        "\n",
        "## Data Mining Specialization - Coursera / University of Illinois at Urbana-Champaign\n",
        "\n",
        "* Author: Michael Onishi\n",
        "* Date: November, 2019"
      ]
    },
    {
      "cell_type": "markdown",
      "metadata": {
        "colab_type": "text",
        "id": "ioZUy0CcJxUk"
      },
      "source": [
        "### Description\n",
        "The general goal of Tasks 4 and 5 is to leverage recognized dish names to further help people making dining decisions. Specifically, Task 4 is to mine popular dishes in a cuisine that are liked by people; this can be very useful for people who would be interested in trying a cuisine that they might not be familiar with. Task 5 is to recommend restaurants to people who would like to have a particular dish or a certain type of dishes. This is directly useful to help people choose where to dine.\n",
        "\n",
        "\n"
      ]
    },
    {
      "cell_type": "markdown",
      "metadata": {
        "colab_type": "text",
        "id": "mSFe8cB1gjNP"
      },
      "source": [
        "### Dataset setup"
      ]
    },
    {
      "cell_type": "code",
      "metadata": {
        "colab_type": "code",
        "id": "5OEFFBil3T6o",
        "outputId": "b6eef4ed-9277-4984-cfa0-65be71163df3",
        "colab": {
          "base_uri": "https://localhost:8080/",
          "height": 411
        }
      },
      "source": [
        "! wget https://d396qusza40orc.cloudfront.net/dataminingcapstone/YelpDataset/yelp_dataset.tar.gz\n",
        "! tar xzf yelp_dataset.tar.gz\n",
        "! wget https://raw.githubusercontent.com/michaelonishi/coursera-data-mining-specialization/master/c6-data-mining-project/task4-5/italian.txt"
      ],
      "execution_count": 1,
      "outputs": [
        {
          "output_type": "stream",
          "text": [
            "--2019-11-20 23:26:06--  https://d396qusza40orc.cloudfront.net/dataminingcapstone/YelpDataset/yelp_dataset.tar.gz\n",
            "Resolving d396qusza40orc.cloudfront.net (d396qusza40orc.cloudfront.net)... 99.86.32.218, 99.86.32.11, 99.86.32.121, ...\n",
            "Connecting to d396qusza40orc.cloudfront.net (d396qusza40orc.cloudfront.net)|99.86.32.218|:443... connected.\n",
            "HTTP request sent, awaiting response... 200 OK\n",
            "Length: 443445047 (423M) [application/x-gzip]\n",
            "Saving to: ‘yelp_dataset.tar.gz’\n",
            "\n",
            "yelp_dataset.tar.gz 100%[===================>] 422.90M  54.9MB/s    in 8.2s    \n",
            "\n",
            "2019-11-20 23:26:15 (51.7 MB/s) - ‘yelp_dataset.tar.gz’ saved [443445047/443445047]\n",
            "\n",
            "--2019-11-20 23:26:31--  https://raw.githubusercontent.com/michaelonishi/coursera-data-mining-specialization/master/c6-data-mining-project/task4-5/italian.txt\n",
            "Resolving raw.githubusercontent.com (raw.githubusercontent.com)... 151.101.0.133, 151.101.64.133, 151.101.128.133, ...\n",
            "Connecting to raw.githubusercontent.com (raw.githubusercontent.com)|151.101.0.133|:443... connected.\n",
            "HTTP request sent, awaiting response... 200 OK\n",
            "Length: 1904 (1.9K) [text/plain]\n",
            "Saving to: ‘italian.txt’\n",
            "\n",
            "italian.txt         100%[===================>]   1.86K  --.-KB/s    in 0s      \n",
            "\n",
            "2019-11-20 23:26:31 (41.8 MB/s) - ‘italian.txt’ saved [1904/1904]\n",
            "\n"
          ],
          "name": "stdout"
        }
      ]
    },
    {
      "cell_type": "code",
      "metadata": {
        "colab_type": "code",
        "id": "X5FO7T0loooH",
        "outputId": "7a3bd347-1364-471e-e297-5f9edd9f0337",
        "colab": {
          "base_uri": "https://localhost:8080/",
          "height": 34
        }
      },
      "source": [
        "! pip install unidecode -q"
      ],
      "execution_count": 2,
      "outputs": [
        {
          "output_type": "stream",
          "text": [
            "\u001b[?25l\r\u001b[K     |█▍                              | 10kB 21.4MB/s eta 0:00:01\r\u001b[K     |██▊                             | 20kB 3.1MB/s eta 0:00:01\r\u001b[K     |████▏                           | 30kB 4.5MB/s eta 0:00:01\r\u001b[K     |█████▌                          | 40kB 2.9MB/s eta 0:00:01\r\u001b[K     |██████▉                         | 51kB 3.6MB/s eta 0:00:01\r\u001b[K     |████████▎                       | 61kB 4.2MB/s eta 0:00:01\r\u001b[K     |█████████▋                      | 71kB 4.9MB/s eta 0:00:01\r\u001b[K     |███████████                     | 81kB 5.5MB/s eta 0:00:01\r\u001b[K     |████████████▍                   | 92kB 6.2MB/s eta 0:00:01\r\u001b[K     |█████████████▊                  | 102kB 4.8MB/s eta 0:00:01\r\u001b[K     |███████████████▏                | 112kB 4.8MB/s eta 0:00:01\r\u001b[K     |████████████████▌               | 122kB 4.8MB/s eta 0:00:01\r\u001b[K     |█████████████████▉              | 133kB 4.8MB/s eta 0:00:01\r\u001b[K     |███████████████████▎            | 143kB 4.8MB/s eta 0:00:01\r\u001b[K     |████████████████████▋           | 153kB 4.8MB/s eta 0:00:01\r\u001b[K     |██████████████████████          | 163kB 4.8MB/s eta 0:00:01\r\u001b[K     |███████████████████████▍        | 174kB 4.8MB/s eta 0:00:01\r\u001b[K     |████████████████████████▊       | 184kB 4.8MB/s eta 0:00:01\r\u001b[K     |██████████████████████████▏     | 194kB 4.8MB/s eta 0:00:01\r\u001b[K     |███████████████████████████▌    | 204kB 4.8MB/s eta 0:00:01\r\u001b[K     |████████████████████████████▉   | 215kB 4.8MB/s eta 0:00:01\r\u001b[K     |██████████████████████████████▎ | 225kB 4.8MB/s eta 0:00:01\r\u001b[K     |███████████████████████████████▋| 235kB 4.8MB/s eta 0:00:01\r\u001b[K     |████████████████████████████████| 245kB 4.8MB/s \n",
            "\u001b[?25h"
          ],
          "name": "stdout"
        }
      ]
    },
    {
      "cell_type": "code",
      "metadata": {
        "colab_type": "code",
        "id": "ef4yMrGWnxa-",
        "colab": {}
      },
      "source": [
        "import pandas as pd\n",
        "from unidecode import unidecode\n",
        "import re\n",
        "import math\n",
        "\n",
        "# Plotting tools\n",
        "import matplotlib.pyplot as plt\n",
        "from matplotlib import cm\n",
        "%matplotlib inline\n",
        "\n",
        "# Seaborn for plotting and styling\n",
        "import seaborn as sns\n",
        "sns.set(style=\"whitegrid\")"
      ],
      "execution_count": 0,
      "outputs": []
    },
    {
      "cell_type": "code",
      "metadata": {
        "colab_type": "code",
        "id": "00L3IhONPp0I",
        "colab": {}
      },
      "source": [
        "path2files=\"yelp_dataset_challenge_academic_dataset/\"\n",
        "path2business=path2files+\"yelp_academic_dataset_business.json\"\n",
        "path2reviews=path2files+\"yelp_academic_dataset_review.json\"\n",
        "\n",
        "df_bus = pd.read_json(path2business, lines=True).set_index('business_id')\n",
        "df_reviews = pd.read_json(path2reviews, lines = True).set_index('review_id')"
      ],
      "execution_count": 0,
      "outputs": []
    },
    {
      "cell_type": "markdown",
      "metadata": {
        "colab_type": "text",
        "id": "HXtmVbC-UeBy"
      },
      "source": [
        "Filtering only Italian Restaurants"
      ]
    },
    {
      "cell_type": "code",
      "metadata": {
        "colab_type": "code",
        "id": "_tlU1HSmTDVu",
        "colab": {}
      },
      "source": [
        "df_bus = df_bus[df_bus.categories.apply(lambda x : 'Restaurants' in x and 'Italian' in x)]"
      ],
      "execution_count": 0,
      "outputs": []
    },
    {
      "cell_type": "code",
      "metadata": {
        "colab_type": "code",
        "id": "XZyMLeRhbpG3",
        "outputId": "9ac76c0e-e568-4c50-fc78-e4bbaa0b24ca",
        "colab": {
          "base_uri": "https://localhost:8080/",
          "height": 595
        }
      },
      "source": [
        "df_bus.head()"
      ],
      "execution_count": 6,
      "outputs": [
        {
          "output_type": "execute_result",
          "data": {
            "text/html": [
              "<div>\n",
              "<style scoped>\n",
              "    .dataframe tbody tr th:only-of-type {\n",
              "        vertical-align: middle;\n",
              "    }\n",
              "\n",
              "    .dataframe tbody tr th {\n",
              "        vertical-align: top;\n",
              "    }\n",
              "\n",
              "    .dataframe thead th {\n",
              "        text-align: right;\n",
              "    }\n",
              "</style>\n",
              "<table border=\"1\" class=\"dataframe\">\n",
              "  <thead>\n",
              "    <tr style=\"text-align: right;\">\n",
              "      <th></th>\n",
              "      <th>full_address</th>\n",
              "      <th>hours</th>\n",
              "      <th>open</th>\n",
              "      <th>categories</th>\n",
              "      <th>city</th>\n",
              "      <th>review_count</th>\n",
              "      <th>name</th>\n",
              "      <th>neighborhoods</th>\n",
              "      <th>longitude</th>\n",
              "      <th>state</th>\n",
              "      <th>stars</th>\n",
              "      <th>latitude</th>\n",
              "      <th>attributes</th>\n",
              "      <th>type</th>\n",
              "    </tr>\n",
              "    <tr>\n",
              "      <th>business_id</th>\n",
              "      <th></th>\n",
              "      <th></th>\n",
              "      <th></th>\n",
              "      <th></th>\n",
              "      <th></th>\n",
              "      <th></th>\n",
              "      <th></th>\n",
              "      <th></th>\n",
              "      <th></th>\n",
              "      <th></th>\n",
              "      <th></th>\n",
              "      <th></th>\n",
              "      <th></th>\n",
              "      <th></th>\n",
              "    </tr>\n",
              "  </thead>\n",
              "  <tbody>\n",
              "    <tr>\n",
              "      <th>q8fD82us6uuGufvI44NoAg</th>\n",
              "      <td>7462 Hubbard Ave\\nMiddleton, WI 53562</td>\n",
              "      <td>{'Monday': {'close': '21:00', 'open': '17:00'}...</td>\n",
              "      <td>True</td>\n",
              "      <td>[Restaurants, Italian]</td>\n",
              "      <td>Middleton</td>\n",
              "      <td>53</td>\n",
              "      <td>Vin Santo</td>\n",
              "      <td>[]</td>\n",
              "      <td>-89.510966</td>\n",
              "      <td>WI</td>\n",
              "      <td>4.0</td>\n",
              "      <td>43.095542</td>\n",
              "      <td>{'Take-out': True, 'Wi-Fi': 'no', 'Good For': ...</td>\n",
              "      <td>business</td>\n",
              "    </tr>\n",
              "    <tr>\n",
              "      <th>ybkWtM1ZnT2ewuquj3A9KQ</th>\n",
              "      <td>1849 Northport Dr\\nSherman\\nMadison, WI 53704</td>\n",
              "      <td>{'Monday': {'close': '22:00', 'open': '11:00'}...</td>\n",
              "      <td>True</td>\n",
              "      <td>[Restaurants, Italian]</td>\n",
              "      <td>Madison</td>\n",
              "      <td>22</td>\n",
              "      <td>Benvenuto's Italian Grill</td>\n",
              "      <td>[Sherman]</td>\n",
              "      <td>-89.360971</td>\n",
              "      <td>WI</td>\n",
              "      <td>3.0</td>\n",
              "      <td>43.129670</td>\n",
              "      <td>{'Take-out': True, 'Wi-Fi': 'free', 'Good For'...</td>\n",
              "      <td>business</td>\n",
              "    </tr>\n",
              "    <tr>\n",
              "      <th>PhdMPqSdLZi6IV8SdnpUAQ</th>\n",
              "      <td>4320 E Towne Blvd\\nMadison, WI 53704</td>\n",
              "      <td>{'Monday': {'close': '22:00', 'open': '11:00'}...</td>\n",
              "      <td>True</td>\n",
              "      <td>[Restaurants, Italian]</td>\n",
              "      <td>Madison</td>\n",
              "      <td>11</td>\n",
              "      <td>Olive Garden Italian Restaurant</td>\n",
              "      <td>[]</td>\n",
              "      <td>-89.309419</td>\n",
              "      <td>WI</td>\n",
              "      <td>3.5</td>\n",
              "      <td>43.126269</td>\n",
              "      <td>{'Take-out': True, 'Good For': {'dessert': Fal...</td>\n",
              "      <td>business</td>\n",
              "    </tr>\n",
              "    <tr>\n",
              "      <th>Hld3cjWyfPpW5hDcgXfNQA</th>\n",
              "      <td>5801 Monona Dr\\nMonona, WI 53716</td>\n",
              "      <td>{'Monday': {'close': '20:30', 'open': '16:00'}...</td>\n",
              "      <td>True</td>\n",
              "      <td>[Restaurants, Pizza, Italian]</td>\n",
              "      <td>Monona</td>\n",
              "      <td>19</td>\n",
              "      <td>Angelo's</td>\n",
              "      <td>[]</td>\n",
              "      <td>-89.326138</td>\n",
              "      <td>WI</td>\n",
              "      <td>3.5</td>\n",
              "      <td>43.056732</td>\n",
              "      <td>{'Take-out': True, 'Good For': {'dessert': Fal...</td>\n",
              "      <td>business</td>\n",
              "    </tr>\n",
              "    <tr>\n",
              "      <th>ki33_SvM4kPjgA44Re8-zQ</th>\n",
              "      <td>108 Owen Rd\\nMonona, WI 53716</td>\n",
              "      <td>{'Monday': {'close': '18:00', 'open': '09:00'}...</td>\n",
              "      <td>True</td>\n",
              "      <td>[Delis, Restaurants, Italian]</td>\n",
              "      <td>Monona</td>\n",
              "      <td>7</td>\n",
              "      <td>Fraboni's Italian Specialties &amp; Delicatessen</td>\n",
              "      <td>[]</td>\n",
              "      <td>-89.326717</td>\n",
              "      <td>WI</td>\n",
              "      <td>4.5</td>\n",
              "      <td>43.056621</td>\n",
              "      <td>{'Take-out': True, 'Good For': {'dessert': Fal...</td>\n",
              "      <td>business</td>\n",
              "    </tr>\n",
              "  </tbody>\n",
              "</table>\n",
              "</div>"
            ],
            "text/plain": [
              "                                                         full_address  ...      type\n",
              "business_id                                                            ...          \n",
              "q8fD82us6uuGufvI44NoAg          7462 Hubbard Ave\\nMiddleton, WI 53562  ...  business\n",
              "ybkWtM1ZnT2ewuquj3A9KQ  1849 Northport Dr\\nSherman\\nMadison, WI 53704  ...  business\n",
              "PhdMPqSdLZi6IV8SdnpUAQ           4320 E Towne Blvd\\nMadison, WI 53704  ...  business\n",
              "Hld3cjWyfPpW5hDcgXfNQA               5801 Monona Dr\\nMonona, WI 53716  ...  business\n",
              "ki33_SvM4kPjgA44Re8-zQ                  108 Owen Rd\\nMonona, WI 53716  ...  business\n",
              "\n",
              "[5 rows x 14 columns]"
            ]
          },
          "metadata": {
            "tags": []
          },
          "execution_count": 6
        }
      ]
    },
    {
      "cell_type": "code",
      "metadata": {
        "colab_type": "code",
        "id": "YTnB2E2oXtqe",
        "colab": {}
      },
      "source": [
        "df = df_reviews.merge(df_bus, on = 'business_id')"
      ],
      "execution_count": 0,
      "outputs": []
    },
    {
      "cell_type": "code",
      "metadata": {
        "colab_type": "code",
        "outputId": "7a8ad840-c8e6-4932-ff4c-0c9a93e03e3c",
        "id": "xKmMmD0yGsz_",
        "colab": {
          "base_uri": "https://localhost:8080/",
          "height": 717
        }
      },
      "source": [
        "df.head()"
      ],
      "execution_count": 8,
      "outputs": [
        {
          "output_type": "execute_result",
          "data": {
            "text/html": [
              "<div>\n",
              "<style scoped>\n",
              "    .dataframe tbody tr th:only-of-type {\n",
              "        vertical-align: middle;\n",
              "    }\n",
              "\n",
              "    .dataframe tbody tr th {\n",
              "        vertical-align: top;\n",
              "    }\n",
              "\n",
              "    .dataframe thead th {\n",
              "        text-align: right;\n",
              "    }\n",
              "</style>\n",
              "<table border=\"1\" class=\"dataframe\">\n",
              "  <thead>\n",
              "    <tr style=\"text-align: right;\">\n",
              "      <th></th>\n",
              "      <th>votes</th>\n",
              "      <th>user_id</th>\n",
              "      <th>stars_x</th>\n",
              "      <th>date</th>\n",
              "      <th>text</th>\n",
              "      <th>type_x</th>\n",
              "      <th>business_id</th>\n",
              "      <th>full_address</th>\n",
              "      <th>hours</th>\n",
              "      <th>open</th>\n",
              "      <th>categories</th>\n",
              "      <th>city</th>\n",
              "      <th>review_count</th>\n",
              "      <th>name</th>\n",
              "      <th>neighborhoods</th>\n",
              "      <th>longitude</th>\n",
              "      <th>state</th>\n",
              "      <th>stars_y</th>\n",
              "      <th>latitude</th>\n",
              "      <th>attributes</th>\n",
              "      <th>type_y</th>\n",
              "    </tr>\n",
              "  </thead>\n",
              "  <tbody>\n",
              "    <tr>\n",
              "      <th>0</th>\n",
              "      <td>{'funny': 0, 'useful': 0, 'cool': 0}</td>\n",
              "      <td>z0mglEImg4_jWiIRp-M-0g</td>\n",
              "      <td>5</td>\n",
              "      <td>2008-02-15</td>\n",
              "      <td>The best Italian food in town, hands down.  Th...</td>\n",
              "      <td>review</td>\n",
              "      <td>q8fD82us6uuGufvI44NoAg</td>\n",
              "      <td>7462 Hubbard Ave\\nMiddleton, WI 53562</td>\n",
              "      <td>{'Monday': {'close': '21:00', 'open': '17:00'}...</td>\n",
              "      <td>True</td>\n",
              "      <td>[Restaurants, Italian]</td>\n",
              "      <td>Middleton</td>\n",
              "      <td>53</td>\n",
              "      <td>Vin Santo</td>\n",
              "      <td>[]</td>\n",
              "      <td>-89.510966</td>\n",
              "      <td>WI</td>\n",
              "      <td>4.0</td>\n",
              "      <td>43.095542</td>\n",
              "      <td>{'Take-out': True, 'Wi-Fi': 'no', 'Good For': ...</td>\n",
              "      <td>business</td>\n",
              "    </tr>\n",
              "    <tr>\n",
              "      <th>1</th>\n",
              "      <td>{'funny': 0, 'useful': 0, 'cool': 0}</td>\n",
              "      <td>vBG8yRp-mpIIH03YWKJ6Cg</td>\n",
              "      <td>5</td>\n",
              "      <td>2008-10-05</td>\n",
              "      <td>I always crave Vin Santo, even though I haven'...</td>\n",
              "      <td>review</td>\n",
              "      <td>q8fD82us6uuGufvI44NoAg</td>\n",
              "      <td>7462 Hubbard Ave\\nMiddleton, WI 53562</td>\n",
              "      <td>{'Monday': {'close': '21:00', 'open': '17:00'}...</td>\n",
              "      <td>True</td>\n",
              "      <td>[Restaurants, Italian]</td>\n",
              "      <td>Middleton</td>\n",
              "      <td>53</td>\n",
              "      <td>Vin Santo</td>\n",
              "      <td>[]</td>\n",
              "      <td>-89.510966</td>\n",
              "      <td>WI</td>\n",
              "      <td>4.0</td>\n",
              "      <td>43.095542</td>\n",
              "      <td>{'Take-out': True, 'Wi-Fi': 'no', 'Good For': ...</td>\n",
              "      <td>business</td>\n",
              "    </tr>\n",
              "    <tr>\n",
              "      <th>2</th>\n",
              "      <td>{'funny': 0, 'useful': 1, 'cool': 0}</td>\n",
              "      <td>zxRhpU-ATbWKcDLEsFfT0A</td>\n",
              "      <td>5</td>\n",
              "      <td>2008-10-13</td>\n",
              "      <td>Vin Santo rules!  \\n\\nThis is a great casual r...</td>\n",
              "      <td>review</td>\n",
              "      <td>q8fD82us6uuGufvI44NoAg</td>\n",
              "      <td>7462 Hubbard Ave\\nMiddleton, WI 53562</td>\n",
              "      <td>{'Monday': {'close': '21:00', 'open': '17:00'}...</td>\n",
              "      <td>True</td>\n",
              "      <td>[Restaurants, Italian]</td>\n",
              "      <td>Middleton</td>\n",
              "      <td>53</td>\n",
              "      <td>Vin Santo</td>\n",
              "      <td>[]</td>\n",
              "      <td>-89.510966</td>\n",
              "      <td>WI</td>\n",
              "      <td>4.0</td>\n",
              "      <td>43.095542</td>\n",
              "      <td>{'Take-out': True, 'Wi-Fi': 'no', 'Good For': ...</td>\n",
              "      <td>business</td>\n",
              "    </tr>\n",
              "    <tr>\n",
              "      <th>3</th>\n",
              "      <td>{'funny': 0, 'useful': 2, 'cool': 0}</td>\n",
              "      <td>q5iAT3rQAiF1OsMmLKgQQA</td>\n",
              "      <td>5</td>\n",
              "      <td>2008-10-21</td>\n",
              "      <td>This is easily the best Italian food in the Ma...</td>\n",
              "      <td>review</td>\n",
              "      <td>q8fD82us6uuGufvI44NoAg</td>\n",
              "      <td>7462 Hubbard Ave\\nMiddleton, WI 53562</td>\n",
              "      <td>{'Monday': {'close': '21:00', 'open': '17:00'}...</td>\n",
              "      <td>True</td>\n",
              "      <td>[Restaurants, Italian]</td>\n",
              "      <td>Middleton</td>\n",
              "      <td>53</td>\n",
              "      <td>Vin Santo</td>\n",
              "      <td>[]</td>\n",
              "      <td>-89.510966</td>\n",
              "      <td>WI</td>\n",
              "      <td>4.0</td>\n",
              "      <td>43.095542</td>\n",
              "      <td>{'Take-out': True, 'Wi-Fi': 'no', 'Good For': ...</td>\n",
              "      <td>business</td>\n",
              "    </tr>\n",
              "    <tr>\n",
              "      <th>4</th>\n",
              "      <td>{'funny': 0, 'useful': 2, 'cool': 0}</td>\n",
              "      <td>no9odAfwocTruGYGNUVcIg</td>\n",
              "      <td>4</td>\n",
              "      <td>2008-12-02</td>\n",
              "      <td>try their appetizer of steamed mussels and the...</td>\n",
              "      <td>review</td>\n",
              "      <td>q8fD82us6uuGufvI44NoAg</td>\n",
              "      <td>7462 Hubbard Ave\\nMiddleton, WI 53562</td>\n",
              "      <td>{'Monday': {'close': '21:00', 'open': '17:00'}...</td>\n",
              "      <td>True</td>\n",
              "      <td>[Restaurants, Italian]</td>\n",
              "      <td>Middleton</td>\n",
              "      <td>53</td>\n",
              "      <td>Vin Santo</td>\n",
              "      <td>[]</td>\n",
              "      <td>-89.510966</td>\n",
              "      <td>WI</td>\n",
              "      <td>4.0</td>\n",
              "      <td>43.095542</td>\n",
              "      <td>{'Take-out': True, 'Wi-Fi': 'no', 'Good For': ...</td>\n",
              "      <td>business</td>\n",
              "    </tr>\n",
              "  </tbody>\n",
              "</table>\n",
              "</div>"
            ],
            "text/plain": [
              "                                  votes  ...    type_y\n",
              "0  {'funny': 0, 'useful': 0, 'cool': 0}  ...  business\n",
              "1  {'funny': 0, 'useful': 0, 'cool': 0}  ...  business\n",
              "2  {'funny': 0, 'useful': 1, 'cool': 0}  ...  business\n",
              "3  {'funny': 0, 'useful': 2, 'cool': 0}  ...  business\n",
              "4  {'funny': 0, 'useful': 2, 'cool': 0}  ...  business\n",
              "\n",
              "[5 rows x 21 columns]"
            ]
          },
          "metadata": {
            "tags": []
          },
          "execution_count": 8
        }
      ]
    },
    {
      "cell_type": "code",
      "metadata": {
        "colab_type": "code",
        "id": "_Ac4tbIkqnE2",
        "colab": {}
      },
      "source": [
        "def preprocess(text):\n",
        "    # Remove accents\n",
        "    text = unidecode(text)\n",
        "    # Remove line breaks and tab\n",
        "    text = re.sub(r'[\\t\\n\\r]', ' ', text)\n",
        "    # Remove http links\n",
        "    text = re.sub(r'http\\S+', ' ', text)\n",
        "    # Remove leading and trailing spaces\n",
        "    text = text.strip()\n",
        "    return text"
      ],
      "execution_count": 0,
      "outputs": []
    },
    {
      "cell_type": "code",
      "metadata": {
        "colab_type": "code",
        "id": "92QahoR4nYIl",
        "outputId": "83ee1160-8e8f-456a-f6aa-22a6c7f4ff14",
        "colab": {
          "base_uri": "https://localhost:8080/",
          "height": 71
        }
      },
      "source": [
        "df.text_processed = df.text.apply(lambda x : preprocess(x))"
      ],
      "execution_count": 10,
      "outputs": [
        {
          "output_type": "stream",
          "text": [
            "/usr/local/lib/python3.6/dist-packages/ipykernel_launcher.py:1: UserWarning: Pandas doesn't allow columns to be created via a new attribute name - see https://pandas.pydata.org/pandas-docs/stable/indexing.html#attribute-access\n",
            "  \"\"\"Entry point for launching an IPython kernel.\n"
          ],
          "name": "stderr"
        }
      ]
    },
    {
      "cell_type": "markdown",
      "metadata": {
        "id": "Rf1UR6dkcQrt",
        "colab_type": "text"
      },
      "source": [
        "### Task 4: Mining Popular Dishes\n",
        "\n",
        "In this task, you will create a visualization showing a ranking of the dishes for a Yelp cuisine of your choice. \n"
      ]
    },
    {
      "cell_type": "code",
      "metadata": {
        "id": "exSNM1fu2B-S",
        "colab_type": "code",
        "colab": {}
      },
      "source": [
        "dish_list = pd.read_csv('italian.txt', header = None, names = ['dish'])"
      ],
      "execution_count": 0,
      "outputs": []
    },
    {
      "cell_type": "code",
      "metadata": {
        "id": "nSB1jqfW1-u1",
        "colab_type": "code",
        "outputId": "62034a0c-d964-4abe-c738-8a5b4a72992b",
        "colab": {
          "base_uri": "https://localhost:8080/",
          "height": 419
        }
      },
      "source": [
        "dish_list"
      ],
      "execution_count": 12,
      "outputs": [
        {
          "output_type": "execute_result",
          "data": {
            "text/html": [
              "<div>\n",
              "<style scoped>\n",
              "    .dataframe tbody tr th:only-of-type {\n",
              "        vertical-align: middle;\n",
              "    }\n",
              "\n",
              "    .dataframe tbody tr th {\n",
              "        vertical-align: top;\n",
              "    }\n",
              "\n",
              "    .dataframe thead th {\n",
              "        text-align: right;\n",
              "    }\n",
              "</style>\n",
              "<table border=\"1\" class=\"dataframe\">\n",
              "  <thead>\n",
              "    <tr style=\"text-align: right;\">\n",
              "      <th></th>\n",
              "      <th>dish</th>\n",
              "    </tr>\n",
              "  </thead>\n",
              "  <tbody>\n",
              "    <tr>\n",
              "      <th>0</th>\n",
              "      <td>sea urchin</td>\n",
              "    </tr>\n",
              "    <tr>\n",
              "      <th>1</th>\n",
              "      <td>corned beef</td>\n",
              "    </tr>\n",
              "    <tr>\n",
              "      <th>2</th>\n",
              "      <td>pine nuts</td>\n",
              "    </tr>\n",
              "    <tr>\n",
              "      <th>3</th>\n",
              "      <td>frog legs</td>\n",
              "    </tr>\n",
              "    <tr>\n",
              "      <th>4</th>\n",
              "      <td>pork loin</td>\n",
              "    </tr>\n",
              "    <tr>\n",
              "      <th>...</th>\n",
              "      <td>...</td>\n",
              "    </tr>\n",
              "    <tr>\n",
              "      <th>136</th>\n",
              "      <td>deep dish pizza</td>\n",
              "    </tr>\n",
              "    <tr>\n",
              "      <th>137</th>\n",
              "      <td>sweet potato tots</td>\n",
              "    </tr>\n",
              "    <tr>\n",
              "      <th>138</th>\n",
              "      <td>pistachio gelato</td>\n",
              "    </tr>\n",
              "    <tr>\n",
              "      <th>139</th>\n",
              "      <td>meatball sandwich</td>\n",
              "    </tr>\n",
              "    <tr>\n",
              "      <th>140</th>\n",
              "      <td>lobster ravioli</td>\n",
              "    </tr>\n",
              "  </tbody>\n",
              "</table>\n",
              "<p>141 rows × 1 columns</p>\n",
              "</div>"
            ],
            "text/plain": [
              "                  dish\n",
              "0           sea urchin\n",
              "1          corned beef\n",
              "2            pine nuts\n",
              "3            frog legs\n",
              "4            pork loin\n",
              "..                 ...\n",
              "136    deep dish pizza\n",
              "137  sweet potato tots\n",
              "138   pistachio gelato\n",
              "139  meatball sandwich\n",
              "140    lobster ravioli\n",
              "\n",
              "[141 rows x 1 columns]"
            ]
          },
          "metadata": {
            "tags": []
          },
          "execution_count": 12
        }
      ]
    },
    {
      "cell_type": "code",
      "metadata": {
        "id": "4q3BfFlQJDBm",
        "colab_type": "code",
        "colab": {}
      },
      "source": [
        "dish_list['review_count'] = dish_list.dish.apply(lambda x : (df.text_processed.str.contains(x)).sum())"
      ],
      "execution_count": 0,
      "outputs": []
    },
    {
      "cell_type": "code",
      "metadata": {
        "id": "Lwji9-yIoiHA",
        "colab_type": "code",
        "outputId": "c7ab407e-9a28-4733-e0d6-9dc0267b3176",
        "colab": {
          "base_uri": "https://localhost:8080/",
          "height": 419
        }
      },
      "source": [
        "dish_list.sort_values('review_count', ascending=False)"
      ],
      "execution_count": 14,
      "outputs": [
        {
          "output_type": "execute_result",
          "data": {
            "text/html": [
              "<div>\n",
              "<style scoped>\n",
              "    .dataframe tbody tr th:only-of-type {\n",
              "        vertical-align: middle;\n",
              "    }\n",
              "\n",
              "    .dataframe tbody tr th {\n",
              "        vertical-align: top;\n",
              "    }\n",
              "\n",
              "    .dataframe thead th {\n",
              "        text-align: right;\n",
              "    }\n",
              "</style>\n",
              "<table border=\"1\" class=\"dataframe\">\n",
              "  <thead>\n",
              "    <tr style=\"text-align: right;\">\n",
              "      <th></th>\n",
              "      <th>dish</th>\n",
              "      <th>review_count</th>\n",
              "    </tr>\n",
              "  </thead>\n",
              "  <tbody>\n",
              "    <tr>\n",
              "      <th>104</th>\n",
              "      <td>pizza</td>\n",
              "      <td>19691</td>\n",
              "    </tr>\n",
              "    <tr>\n",
              "      <th>95</th>\n",
              "      <td>meatball</td>\n",
              "      <td>3196</td>\n",
              "    </tr>\n",
              "    <tr>\n",
              "      <th>85</th>\n",
              "      <td>soup</td>\n",
              "      <td>2276</td>\n",
              "    </tr>\n",
              "    <tr>\n",
              "      <th>105</th>\n",
              "      <td>bruschetta</td>\n",
              "      <td>1891</td>\n",
              "    </tr>\n",
              "    <tr>\n",
              "      <th>92</th>\n",
              "      <td>calamari</td>\n",
              "      <td>1845</td>\n",
              "    </tr>\n",
              "    <tr>\n",
              "      <th>...</th>\n",
              "      <td>...</td>\n",
              "      <td>...</td>\n",
              "    </tr>\n",
              "    <tr>\n",
              "      <th>98</th>\n",
              "      <td>gorgonzola pizza</td>\n",
              "      <td>7</td>\n",
              "    </tr>\n",
              "    <tr>\n",
              "      <th>66</th>\n",
              "      <td>golden nugget</td>\n",
              "      <td>3</td>\n",
              "    </tr>\n",
              "    <tr>\n",
              "      <th>45</th>\n",
              "      <td>la favorita</td>\n",
              "      <td>3</td>\n",
              "    </tr>\n",
              "    <tr>\n",
              "      <th>73</th>\n",
              "      <td>italian margarita</td>\n",
              "      <td>1</td>\n",
              "    </tr>\n",
              "    <tr>\n",
              "      <th>75</th>\n",
              "      <td>mascarpone guanciale mashed potatoes</td>\n",
              "      <td>1</td>\n",
              "    </tr>\n",
              "  </tbody>\n",
              "</table>\n",
              "<p>141 rows × 2 columns</p>\n",
              "</div>"
            ],
            "text/plain": [
              "                                     dish  review_count\n",
              "104                                 pizza         19691\n",
              "95                               meatball          3196\n",
              "85                                   soup          2276\n",
              "105                            bruschetta          1891\n",
              "92                               calamari          1845\n",
              "..                                    ...           ...\n",
              "98                       gorgonzola pizza             7\n",
              "66                          golden nugget             3\n",
              "45                            la favorita             3\n",
              "73                      italian margarita             1\n",
              "75   mascarpone guanciale mashed potatoes             1\n",
              "\n",
              "[141 rows x 2 columns]"
            ]
          },
          "metadata": {
            "tags": []
          },
          "execution_count": 14
        }
      ]
    },
    {
      "cell_type": "code",
      "metadata": {
        "id": "zVL9jjMImrlo",
        "colab_type": "code",
        "outputId": "57cb3fea-7fbf-4ea3-bb54-d39e9ba64838",
        "colab": {
          "base_uri": "https://localhost:8080/",
          "height": 628
        }
      },
      "source": [
        "plt.figure(figsize=(10,10))\n",
        "sns.barplot(x='review_count', y='dish', data = dish_list.sort_values('review_count', ascending=False)[:20], color='b')"
      ],
      "execution_count": 15,
      "outputs": [
        {
          "output_type": "execute_result",
          "data": {
            "text/plain": [
              "<matplotlib.axes._subplots.AxesSubplot at 0x7fb236a0d5c0>"
            ]
          },
          "metadata": {
            "tags": []
          },
          "execution_count": 15
        },
        {
          "output_type": "display_data",
          "data": {
            "image/png": "[encoded data removed]",
            "text/plain": [
              "<Figure size 720x720 with 1 Axes>"
            ]
          },
          "metadata": {
            "tags": []
          }
        }
      ]
    },
    {
      "cell_type": "code",
      "metadata": {
        "id": "8h7fP6UYuCHs",
        "colab_type": "code",
        "colab": {}
      },
      "source": [
        "dish_list['restaurant_count'] = dish_list.dish.apply(lambda x : df[df.text_processed.str.contains(x)].business_id.unique().shape[0])"
      ],
      "execution_count": 0,
      "outputs": []
    },
    {
      "cell_type": "code",
      "metadata": {
        "id": "VSxqSrZ4xPZW",
        "colab_type": "code",
        "colab": {}
      },
      "source": [
        "dish_list['review_restaurant_ratio'] = dish_list.review_count / dish_list.restaurant_count"
      ],
      "execution_count": 0,
      "outputs": []
    },
    {
      "cell_type": "code",
      "metadata": {
        "id": "LcoDEc1LwvsN",
        "colab_type": "code",
        "outputId": "59a63ef3-15e5-430a-f5bb-34210eae15d8",
        "colab": {
          "base_uri": "https://localhost:8080/",
          "height": 419
        }
      },
      "source": [
        "dish_list.sort_values('review_restaurant_ratio', ascending=False)"
      ],
      "execution_count": 18,
      "outputs": [
        {
          "output_type": "execute_result",
          "data": {
            "text/html": [
              "<div>\n",
              "<style scoped>\n",
              "    .dataframe tbody tr th:only-of-type {\n",
              "        vertical-align: middle;\n",
              "    }\n",
              "\n",
              "    .dataframe tbody tr th {\n",
              "        vertical-align: top;\n",
              "    }\n",
              "\n",
              "    .dataframe thead th {\n",
              "        text-align: right;\n",
              "    }\n",
              "</style>\n",
              "<table border=\"1\" class=\"dataframe\">\n",
              "  <thead>\n",
              "    <tr style=\"text-align: right;\">\n",
              "      <th></th>\n",
              "      <th>dish</th>\n",
              "      <th>review_count</th>\n",
              "      <th>restaurant_count</th>\n",
              "      <th>review_restaurant_ratio</th>\n",
              "    </tr>\n",
              "  </thead>\n",
              "  <tbody>\n",
              "    <tr>\n",
              "      <th>104</th>\n",
              "      <td>pizza</td>\n",
              "      <td>19691</td>\n",
              "      <td>808</td>\n",
              "      <td>24.370050</td>\n",
              "    </tr>\n",
              "    <tr>\n",
              "      <th>11</th>\n",
              "      <td>cotton candy</td>\n",
              "      <td>125</td>\n",
              "      <td>10</td>\n",
              "      <td>12.500000</td>\n",
              "    </tr>\n",
              "    <tr>\n",
              "      <th>137</th>\n",
              "      <td>sweet potato tots</td>\n",
              "      <td>12</td>\n",
              "      <td>1</td>\n",
              "      <td>12.000000</td>\n",
              "    </tr>\n",
              "    <tr>\n",
              "      <th>38</th>\n",
              "      <td>foie gras</td>\n",
              "      <td>146</td>\n",
              "      <td>22</td>\n",
              "      <td>6.636364</td>\n",
              "    </tr>\n",
              "    <tr>\n",
              "      <th>105</th>\n",
              "      <td>bruschetta</td>\n",
              "      <td>1891</td>\n",
              "      <td>290</td>\n",
              "      <td>6.520690</td>\n",
              "    </tr>\n",
              "    <tr>\n",
              "      <th>...</th>\n",
              "      <td>...</td>\n",
              "      <td>...</td>\n",
              "      <td>...</td>\n",
              "      <td>...</td>\n",
              "    </tr>\n",
              "    <tr>\n",
              "      <th>86</th>\n",
              "      <td>house made mozzarella</td>\n",
              "      <td>15</td>\n",
              "      <td>14</td>\n",
              "      <td>1.071429</td>\n",
              "    </tr>\n",
              "    <tr>\n",
              "      <th>45</th>\n",
              "      <td>la favorita</td>\n",
              "      <td>3</td>\n",
              "      <td>3</td>\n",
              "      <td>1.000000</td>\n",
              "    </tr>\n",
              "    <tr>\n",
              "      <th>75</th>\n",
              "      <td>mascarpone guanciale mashed potatoes</td>\n",
              "      <td>1</td>\n",
              "      <td>1</td>\n",
              "      <td>1.000000</td>\n",
              "    </tr>\n",
              "    <tr>\n",
              "      <th>73</th>\n",
              "      <td>italian margarita</td>\n",
              "      <td>1</td>\n",
              "      <td>1</td>\n",
              "      <td>1.000000</td>\n",
              "    </tr>\n",
              "    <tr>\n",
              "      <th>63</th>\n",
              "      <td>canadian bacon</td>\n",
              "      <td>14</td>\n",
              "      <td>14</td>\n",
              "      <td>1.000000</td>\n",
              "    </tr>\n",
              "  </tbody>\n",
              "</table>\n",
              "<p>141 rows × 4 columns</p>\n",
              "</div>"
            ],
            "text/plain": [
              "                                     dish  ...  review_restaurant_ratio\n",
              "104                                 pizza  ...                24.370050\n",
              "11                           cotton candy  ...                12.500000\n",
              "137                     sweet potato tots  ...                12.000000\n",
              "38                              foie gras  ...                 6.636364\n",
              "105                            bruschetta  ...                 6.520690\n",
              "..                                    ...  ...                      ...\n",
              "86                  house made mozzarella  ...                 1.071429\n",
              "45                            la favorita  ...                 1.000000\n",
              "75   mascarpone guanciale mashed potatoes  ...                 1.000000\n",
              "73                      italian margarita  ...                 1.000000\n",
              "63                         canadian bacon  ...                 1.000000\n",
              "\n",
              "[141 rows x 4 columns]"
            ]
          },
          "metadata": {
            "tags": []
          },
          "execution_count": 18
        }
      ]
    },
    {
      "cell_type": "code",
      "metadata": {
        "id": "BIjx8XDIxM7A",
        "colab_type": "code",
        "outputId": "50d294f4-bbe5-43db-d43f-9ebf434e304a",
        "colab": {
          "base_uri": "https://localhost:8080/",
          "height": 628
        }
      },
      "source": [
        "plt.figure(figsize=(10,10))\n",
        "data = dish_list.sort_values('review_restaurant_ratio', ascending=False)[:20]\n",
        "sns.barplot(x='review_restaurant_ratio', y='dish', data = data, color='b')"
      ],
      "execution_count": 19,
      "outputs": [
        {
          "output_type": "execute_result",
          "data": {
            "text/plain": [
              "<matplotlib.axes._subplots.AxesSubplot at 0x7fb23696c5f8>"
            ]
          },
          "metadata": {
            "tags": []
          },
          "execution_count": 19
        },
        {
          "output_type": "display_data",
          "data": {
            "image/png": "[encoded data removed]",
            "text/plain": [
              "<Figure size 720x720 with 1 Axes>"
            ]
          },
          "metadata": {
            "tags": []
          }
        }
      ]
    },
    {
      "cell_type": "code",
      "metadata": {
        "id": "fxwwJiZBT3SG",
        "colab_type": "code",
        "colab": {}
      },
      "source": [
        "dish_list['average_review'] = dish_list.dish.apply(lambda x : df[df.text_processed.str.contains(x)].stars_x.mean())"
      ],
      "execution_count": 0,
      "outputs": []
    },
    {
      "cell_type": "code",
      "metadata": {
        "id": "ykpTk0KTVGQU",
        "colab_type": "code",
        "outputId": "ce7cc56a-7b73-4361-9239-ac3579d4910f",
        "colab": {
          "base_uri": "https://localhost:8080/",
          "height": 615
        }
      },
      "source": [
        "plt.figure(figsize=(10,10))\n",
        "data = dish_list.sort_values('review_restaurant_ratio', ascending=False)[:20]\n",
        "\n",
        "norm = plt.Normalize(math.floor(data.average_review.min()), math.ceil(data.average_review.max()))\n",
        "cmap = plt.get_cmap(\"magma\")\n",
        "ax = sns.barplot(x='review_restaurant_ratio', y='dish', data = data, palette=cmap(norm(data.average_review.values)))\n",
        "cbar = ax.figure.colorbar(cm.ScalarMappable(norm=norm, cmap=cmap), ax=ax)\n",
        "cbar.set_label('Average review')"
      ],
      "execution_count": 22,
      "outputs": [
        {
          "output_type": "display_data",
          "data": {
            "image/png": "[encoded data removed]",
            "text/plain": [
              "<Figure size 720x720 with 2 Axes>"
            ]
          },
          "metadata": {
            "tags": []
          }
        }
      ]
    },
    {
      "cell_type": "markdown",
      "metadata": {
        "colab_type": "text",
        "id": "DcdDUdM5gf5V"
      },
      "source": [
        "### Task 5: Restaurant Recommendation\n",
        "\n",
        "In this task, your goal is to recommend good restaurants to those who would like to try one or more dishes in a cuisine. Given a particular dish, the general idea of solving this problem is to assess whether a restaurant is good for this dish based on whether the reviews of a candidate restaurant have included many positive (and very few negative) comments about the dish. You may choose a target dish or a set of target dishes from the list of \"popular dishes\" you generated from Task 4 or, otherwise, choose any dishes that have been mentioned many times in the review data (the more reviews you have for a dish, the more basis you will have for ranking restaurants).\n",
        "\n"
      ]
    },
    {
      "cell_type": "code",
      "metadata": {
        "id": "Mu17faZ1dcNJ",
        "colab_type": "code",
        "colab": {}
      },
      "source": [
        "columns_dict = {'mean':'Average stars', 'count':'Number of reviews', 'name':'Restaurant name'}\n",
        "tmp = df[df.text_processed.str.contains('pizza')].groupby(['business_id', 'name'])\n",
        "tmp = tmp['stars_x'].agg(['mean', 'count']).reset_index().rename(columns=columns_dict).sort_values(by=['Average stars', 'Number of reviews'], ascending = False)\n"
      ],
      "execution_count": 0,
      "outputs": []
    },
    {
      "cell_type": "code",
      "metadata": {
        "id": "2IzrPmvrOIY6",
        "colab_type": "code",
        "colab": {
          "base_uri": "https://localhost:8080/",
          "height": 419
        },
        "outputId": "3f552229-10c6-4fab-e705-f8fbc92caf2d"
      },
      "source": [
        "tmp[tmp['Number of reviews'] > 10]"
      ],
      "execution_count": 101,
      "outputs": [
        {
          "output_type": "execute_result",
          "data": {
            "text/html": [
              "<div>\n",
              "<style scoped>\n",
              "    .dataframe tbody tr th:only-of-type {\n",
              "        vertical-align: middle;\n",
              "    }\n",
              "\n",
              "    .dataframe tbody tr th {\n",
              "        vertical-align: top;\n",
              "    }\n",
              "\n",
              "    .dataframe thead th {\n",
              "        text-align: right;\n",
              "    }\n",
              "</style>\n",
              "<table border=\"1\" class=\"dataframe\">\n",
              "  <thead>\n",
              "    <tr style=\"text-align: right;\">\n",
              "      <th></th>\n",
              "      <th>business_id</th>\n",
              "      <th>Restaurant name</th>\n",
              "      <th>Average stars</th>\n",
              "      <th>Number of reviews</th>\n",
              "    </tr>\n",
              "  </thead>\n",
              "  <tbody>\n",
              "    <tr>\n",
              "      <th>404</th>\n",
              "      <td>VSPuvNSDUvlTl670lVAkkw</td>\n",
              "      <td>Il Bosco Pizza</td>\n",
              "      <td>4.693548</td>\n",
              "      <td>124</td>\n",
              "    </tr>\n",
              "    <tr>\n",
              "      <th>699</th>\n",
              "      <td>rWwz7S0fNmveQQM3PqnC1Q</td>\n",
              "      <td>Salvatore's Tomato Pies</td>\n",
              "      <td>4.682927</td>\n",
              "      <td>82</td>\n",
              "    </tr>\n",
              "    <tr>\n",
              "      <th>436</th>\n",
              "      <td>XfVGU6WGZKc867spn2TImw</td>\n",
              "      <td>Pomo Pizzeria Napoletana</td>\n",
              "      <td>4.633880</td>\n",
              "      <td>183</td>\n",
              "    </tr>\n",
              "    <tr>\n",
              "      <th>783</th>\n",
              "      <td>xr2szu7jYIWbj4tlKef61w</td>\n",
              "      <td>Pezzano's Pizza</td>\n",
              "      <td>4.571429</td>\n",
              "      <td>28</td>\n",
              "    </tr>\n",
              "    <tr>\n",
              "      <th>167</th>\n",
              "      <td>D7d-X4fLvVIdsCDFGpqzmg</td>\n",
              "      <td>My Pie</td>\n",
              "      <td>4.563380</td>\n",
              "      <td>71</td>\n",
              "    </tr>\n",
              "    <tr>\n",
              "      <th>...</th>\n",
              "      <td>...</td>\n",
              "      <td>...</td>\n",
              "      <td>...</td>\n",
              "      <td>...</td>\n",
              "    </tr>\n",
              "    <tr>\n",
              "      <th>751</th>\n",
              "      <td>v9d9yZtSCSZv0GSZ5ywJlQ</td>\n",
              "      <td>Top This Pizza</td>\n",
              "      <td>2.428571</td>\n",
              "      <td>14</td>\n",
              "    </tr>\n",
              "    <tr>\n",
              "      <th>659</th>\n",
              "      <td>objtwN6N5W2lvOzkFxfyaA</td>\n",
              "      <td>Sbarro</td>\n",
              "      <td>2.214286</td>\n",
              "      <td>14</td>\n",
              "    </tr>\n",
              "    <tr>\n",
              "      <th>643</th>\n",
              "      <td>n30q_HaFRWmjFR_bXh9_dg</td>\n",
              "      <td>Cafe Verdi</td>\n",
              "      <td>2.200000</td>\n",
              "      <td>20</td>\n",
              "    </tr>\n",
              "    <tr>\n",
              "      <th>70</th>\n",
              "      <td>67-DcR8Npwuc9lRph194cw</td>\n",
              "      <td>San Gennaro Feast</td>\n",
              "      <td>2.181818</td>\n",
              "      <td>11</td>\n",
              "    </tr>\n",
              "    <tr>\n",
              "      <th>684</th>\n",
              "      <td>qXOAl1zrwUufSGlUWGvA2A</td>\n",
              "      <td>Vegas Best Pizza</td>\n",
              "      <td>2.166667</td>\n",
              "      <td>12</td>\n",
              "    </tr>\n",
              "  </tbody>\n",
              "</table>\n",
              "<p>352 rows × 4 columns</p>\n",
              "</div>"
            ],
            "text/plain": [
              "                business_id  ... Number of reviews\n",
              "404  VSPuvNSDUvlTl670lVAkkw  ...               124\n",
              "699  rWwz7S0fNmveQQM3PqnC1Q  ...                82\n",
              "436  XfVGU6WGZKc867spn2TImw  ...               183\n",
              "783  xr2szu7jYIWbj4tlKef61w  ...                28\n",
              "167  D7d-X4fLvVIdsCDFGpqzmg  ...                71\n",
              "..                      ...  ...               ...\n",
              "751  v9d9yZtSCSZv0GSZ5ywJlQ  ...                14\n",
              "659  objtwN6N5W2lvOzkFxfyaA  ...                14\n",
              "643  n30q_HaFRWmjFR_bXh9_dg  ...                20\n",
              "70   67-DcR8Npwuc9lRph194cw  ...                11\n",
              "684  qXOAl1zrwUufSGlUWGvA2A  ...                12\n",
              "\n",
              "[352 rows x 4 columns]"
            ]
          },
          "metadata": {
            "tags": []
          },
          "execution_count": 101
        }
      ]
    },
    {
      "cell_type": "code",
      "metadata": {
        "id": "sXp2Dy38r1tt",
        "colab_type": "code",
        "colab": {
          "base_uri": "https://localhost:8080/",
          "height": 611
        },
        "outputId": "87fadc8b-8e1c-49e0-8844-0c48a4ac3178"
      },
      "source": [
        "plt.figure(figsize=(10,10))\n",
        "data = tmp[tmp['Number of reviews'] > 10][:30]\n",
        "\n",
        "norm = plt.Normalize(0, math.ceil(data['Number of reviews'].max()))\n",
        "cmap = plt.get_cmap(\"Blues\")\n",
        "ax = sns.barplot(x='Average stars', y='Restaurant name', data = data, palette=cmap(norm(data['Number of reviews'].values)))\n",
        "cbar = ax.figure.colorbar(cm.ScalarMappable(norm=norm, cmap=cmap), ax=ax)\n",
        "cbar.set_label('Number of reviews')"
      ],
      "execution_count": 111,
      "outputs": [
        {
          "output_type": "display_data",
          "data": {
            "image/png": "[encoded data removed]",
            "text/plain": [
              "<Figure size 720x720 with 2 Axes>"
            ]
          },
          "metadata": {
            "tags": []
          }
        }
      ]
    },
    {
      "cell_type": "code",
      "metadata": {
        "id": "xyJ_E28CTI6T",
        "colab_type": "code",
        "colab": {}
      },
      "source": [
        ""
      ],
      "execution_count": 0,
      "outputs": []
    }
  ]
}